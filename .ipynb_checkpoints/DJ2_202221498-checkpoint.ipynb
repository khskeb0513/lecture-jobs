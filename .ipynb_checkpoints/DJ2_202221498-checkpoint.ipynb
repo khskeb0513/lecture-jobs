{
 "cells": [
  {
   "cell_type": "markdown",
   "id": "grand-gauge",
   "metadata": {},
   "source": [
    "# 도전문제2 - 도서 검색 시스템"
   ]
  },
  {
   "cell_type": "markdown",
   "id": "hungry-branch",
   "metadata": {},
   "source": [
    "여러분들은 교부문고 시스템을 개발하게 되었습니다!   \n",
    "\n",
    "교부문고에서 이번에 서점 중간중간에 책의 정보를 검색할 수 있는 시스템을 추가할 예정입니다.  \n",
    "이 시스템에서 사용될 데이터는 다음과 같습니다. (아래 셀을 그대로 실행하면 됩니다.)"
   ]
  },
  {
   "cell_type": "code",
   "execution_count": 10,
   "id": "amazing-place",
   "metadata": {
    "ExecuteTime": {
     "end_time": "2023-03-26T16:08:52.160600Z",
     "start_time": "2023-03-26T16:08:52.147308Z"
    }
   },
   "outputs": [],
   "source": [
    "books = [{'id': 'M0702495719', 'title': 'Sing son work per wait', 'year': 2018, 'publisher': 'Company 17', 'location': 'Section G1', 'price': 47, 'star': 2.5, 'stock': 3},\n",
    "        {'id': 'D2889459833', 'title': 'Man suffer everyone', 'year': 2015, 'publisher': 'Company 9', 'location': 'Section D1', 'price': 87, 'star': 1.6, 'stock': 13},\n",
    "        {'id': 'T7135356128', 'title': 'Suffer shake concern grow', 'year': 2015, 'publisher': 'Company 10', 'location': 'Section G2', 'price': 21, 'star': 4.5, 'stock': 8},\n",
    "        {'id': 'W0965743429', 'title': 'Rest the upon human reflect', 'year': 2020, 'publisher': 'Company 15', 'location': 'Section C2', 'price': 67, 'star': 3.3, 'stock': 12},\n",
    "        {'id': 'Q0581196648', 'title': 'Travel large hit executive herself better', 'year': 2022, 'publisher': 'Company 20', 'location': 'Section G2', 'price': 89, 'star': 2.4, 'stock': 14},\n",
    "        {'id': 'Z4886654734', 'title': 'Treatment down house sense out play', 'year': 2017, 'publisher': 'Company 9', 'location': 'Section D3', 'price': 22, 'star': 4.3, 'stock': 0},\n",
    "        {'id': 'J8363332263', 'title': 'Social describe college', 'year': 2010, 'publisher': 'Company 6', 'location': 'Section D1', 'price': 20, 'star': 2.6, 'stock': 20},\n",
    "        {'id': 'K8249308451', 'title': 'Until others allow push reach write', 'year': 2020, 'publisher': 'Company 3', 'location': 'Section F3', 'price': 72, 'star': 3.3, 'stock': 18},\n",
    "        {'id': 'B3484798037', 'title': 'Fact growth natural contain former eye', 'year': 2021, 'publisher': 'Company 9', 'location': 'Section D3', 'price': 35, 'star': 1.2, 'stock': 20},\n",
    "        {'id': 'O1418238321', 'title': 'Within product white laugh chair enjoy', 'year': 2021, 'publisher': 'Company 2', 'location': 'Section B3', 'price': 50, 'star': 2.7, 'stock': 8},\n",
    "        {'id': 'K1856130198', 'title': 'Executive ready perform thing', 'year': 2012, 'publisher': 'Company 17', 'location': 'Section F2', 'price': 30, 'star': 3.3, 'stock': 17},\n",
    "        {'id': 'I1820613643', 'title': 'Law training certain while ok do', 'year': 2010, 'publisher': 'Company 2', 'location': 'Section E1', 'price': 49, 'star': 4.2, 'stock': 3},\n",
    "        {'id': 'K2488679469', 'title': 'However arrive of true training', 'year': 2019, 'publisher': 'Company 9', 'location': 'Section B3', 'price': 57, 'star': 3.6, 'stock': 1}]"
   ]
  },
  {
   "cell_type": "markdown",
   "id": "cooperative-litigation",
   "metadata": {},
   "source": [
    "변수 books는 리스트이며, 여러 책 정보를 각각 dictionary로 갖고 있습니다.  \n",
    "각 책 정보는 **id**, **title**, **year**, **publisher**, **location**, **price**, **star**, **stock**의 속성으로 구성되어 있습니다. "
   ]
  },
  {
   "cell_type": "markdown",
   "id": "infrared-truck",
   "metadata": {},
   "source": [
    "- id: 책 고유 번호\n",
    "- title: 책 제목\n",
    "- year: 출판년도\n",
    "- publisher: 출판사\n",
    "- location: 서점 내 책 위치\n",
    "- price: 가격\n",
    "- star: 평점 (1~5점)\n",
    "- stock: 재고량"
   ]
  },
  {
   "cell_type": "markdown",
   "id": "better-waste",
   "metadata": {},
   "source": [
    "고객에게 평점이 3.8점 이상인 책만 추천하고자 합니다.  \n",
    "다음과 같은 출력 결과가 나와야 합니다."
   ]
  },
  {
   "cell_type": "raw",
   "id": "legislative-cabin",
   "metadata": {
    "ExecuteTime": {
     "end_time": "2023-03-26T16:11:36.278955Z",
     "start_time": "2023-03-26T16:11:36.273711Z"
    }
   },
   "source": [
    "----- 추천 목록 -----\n",
    "# 추천번호 1\n",
    "제목: Suffer shake concern grow / 평점: 4.5\n",
    "가격: 21달러\n",
    "* 이 책을 찾으시려면 서점 내 Section G2 구역을 찾아주세요.\n",
    "\n",
    "# 추천번호 2\n",
    "제목: Treatment down house sense out play / 평점: 4.3\n",
    "가격: 22달러\n",
    "* 현재 이 책은 품절입니다. 조속히 재입고 도와드리겠습니다.\n",
    "\n",
    "# 추천번호 3\n",
    "제목: Law training certain while ok do / 평점: 4.2\n",
    "가격: 49달러\n",
    "* 이 책을 찾으시려면 서점 내 Section E1 구역을 찾아주세요.\n",
    "\n",
    "# 추천번호 4\n",
    "제목: However arrive of true training / 평점: 3.6\n",
    "가격: 57달러\n",
    "* 이 책을 찾으시려면 서점 내 Section B3 구역을 찾아주세요."
   ]
  },
  {
   "cell_type": "markdown",
   "id": "quarterly-chase",
   "metadata": {},
   "source": [
    "* 추천하는 책의 순서는 따로 정렬하지 않아도 됩니다. \n",
    "* 추천번호는 자동으로 기재되어야 합니다.\n",
    "* 재고가 있다면 서점 내 위치를 알려주고, 재고가 없다면 품절 메시지를 출력합니다.\n",
    "* string format을 사용할 때 오류가 난다면 큰 따옴표와 작은 따옴표를 잘 구분해주셔야 합니다."
   ]
  },
  {
   "cell_type": "code",
   "execution_count": 11,
   "id": "after-strap",
   "metadata": {},
   "outputs": [
    {
     "name": "stdout",
     "output_type": "stream",
     "text": [
      "----- 추천 목록 -----\n",
      "# 추천번호 1\n",
      "제목: Suffer shake concern grow / 평점: 4.5\n",
      "가격: 21달러\n",
      "* 이 책을 찾으시려면 서점 내 Section G2 구역을 찾아주세요. \n",
      "\n",
      "# 추천번호 2\n",
      "제목: Treatment down house sense out play / 평점: 4.3\n",
      "가격: 22달러\n",
      "* 현재 이 책은 품절입니다. 조속히 재입고 도와드리겠습니다. \n",
      "\n",
      "# 추천번호 3\n",
      "제목: Law training certain while ok do / 평점: 4.2\n",
      "가격: 49달러\n",
      "* 이 책을 찾으시려면 서점 내 Section E1 구역을 찾아주세요. \n",
      "\n"
     ]
    }
   ],
   "source": [
    "responseBooks = []\n",
    "for book in books:\n",
    "    if book[\"star\"] >= 3.8:\n",
    "        responseBooks.append(book)\n",
    "print(\"----- 추천 목록 -----\")\n",
    "for i in range(len(responseBooks)):\n",
    "    print(\n",
    "        \"\"\"# 추천번호 {}\n",
    "제목: {} / 평점: {}\n",
    "가격: {}달러\"\"\".format(\n",
    "            i + 1,\n",
    "            responseBooks[i][\"title\"],\n",
    "            responseBooks[i][\"star\"],\n",
    "            responseBooks[i][\"price\"]\n",
    "        )\n",
    "    )\n",
    "    if responseBooks[i][\"stock\"] < 1:\n",
    "        print(\"* 현재 이 책은 품절입니다. 조속히 재입고 도와드리겠습니다.\", \"\\n\")\n",
    "    else:\n",
    "        print(\"* 이 책을 찾으시려면 서점 내 {} 구역을 찾아주세요.\".format(responseBooks[i][\"location\"]), \"\\n\")"
   ]
  }
 ],
 "metadata": {
  "kernelspec": {
   "display_name": "Python 3",
   "language": "python",
   "name": "python3"
  },
  "language_info": {
   "codemirror_mode": {
    "name": "ipython",
    "version": 3
   },
   "file_extension": ".py",
   "mimetype": "text/x-python",
   "name": "python",
   "nbconvert_exporter": "python",
   "pygments_lexer": "ipython3",
   "version": "3.8.6"
  },
  "toc": {
   "base_numbering": 1,
   "nav_menu": {},
   "number_sections": true,
   "sideBar": true,
   "skip_h1_title": false,
   "title_cell": "Table of Contents",
   "title_sidebar": "Contents",
   "toc_cell": false,
   "toc_position": {},
   "toc_section_display": true,
   "toc_window_display": false
  }
 },
 "nbformat": 4,
 "nbformat_minor": 5
}
