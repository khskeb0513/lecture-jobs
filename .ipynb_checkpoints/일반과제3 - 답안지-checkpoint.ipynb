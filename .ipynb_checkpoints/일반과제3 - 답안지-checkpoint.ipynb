{
 "cells": [
  {
   "cell_type": "markdown",
   "metadata": {},
   "source": [
    "# Question 01"
   ]
  },
  {
   "cell_type": "code",
   "execution_count": 2,
   "metadata": {},
   "outputs": [
    {
     "name": "stdout",
     "output_type": "stream",
     "text": [
      "1단: 1 2 3 4 5 6 7 8 9 \n",
      "2단: 2 4 6 8 10 12 14 16 18 \n",
      "3단: 3 6 9 12 15 18 21 24 27 \n",
      "4단: 4 8 12 16 20 24 28 32 36 \n",
      "5단: 5 10 15 20 25 30 35 40 45 \n",
      "6단: 6 12 18 24 30 36 42 48 54 \n",
      "7단: 7 14 21 28 35 42 49 56 63 \n",
      "8단: 8 16 24 32 40 48 56 64 72 \n",
      "9단: 9 18 27 36 45 54 63 72 81 \n"
     ]
    }
   ],
   "source": [
    "# 변수 i에 1부터 9까지의 수를 차례로 대입하는 for 반복문입니다.\n",
    "for i in range(1, 10):\n",
    "    print('{}단: '.format(i), end='')\n",
    "    # 변수 j에 1부터 9까지의 수를 차례로 대입하는 for 반복문입니다.\n",
    "    for j in range(1, 10):\n",
    "        # print함수로 i와 j의 곱을 출력한다. \n",
    "        # print함수의 인자로 end=''를 입력하게 되면 값을 출력한 후에 개행(줄바꿈)을 하지 않는다.\n",
    "        print(i * j, \"\", end='')\n",
    "    # print함수로 개행을 만든다. print함수의 인자에 아무것도 넣지 않으면 그냥 단순히 줄바꿈만 넣어준다.\n",
    "    print()"
   ]
  },
  {
   "cell_type": "markdown",
   "metadata": {},
   "source": [
    "# Question 02"
   ]
  },
  {
   "cell_type": "code",
   "execution_count": 71,
   "metadata": {
    "ExecuteTime": {
     "end_time": "2019-03-21T18:31:49.395130Z",
     "start_time": "2019-03-21T18:31:49.390110Z"
    }
   },
   "outputs": [],
   "source": [
    "libstics = [{\n",
    "                \"name\": \"따뚜아쥬 꾸뛰르\",\n",
    "                \"category\": \"틴트\",\n",
    "                \"brand\": \"입생로랑\",\n",
    "                \"price\": 31360,\n",
    "                \"durability\": 1536\n",
    "            },\n",
    "            {\n",
    "                \"name\": \"루쥬 알뤼르 잉크 매트\",\n",
    "                \"category\": \"틴트\",\n",
    "                \"brand\": \"샤넬\",\n",
    "                \"price\": 41920,\n",
    "                \"durability\": 1245\n",
    "            }]\n",
    "\n",
    "size_of_my_libs = 10"
   ]
  },
  {
   "cell_type": "code",
   "execution_count": 72,
   "metadata": {
    "ExecuteTime": {
     "end_time": "2019-03-21T18:31:50.670100Z",
     "start_time": "2019-03-21T18:31:50.662863Z"
    }
   },
   "outputs": [
    {
     "name": "stdout",
     "output_type": "stream",
     "text": [
      "이번엔 따뚜아쥬 꾸뛰르을 쓸거야!\n",
      "역시 입생로랑의 따뚜아쥬 꾸뛰르는 마음에 들어!\n",
      "역시 입생로랑의 따뚜아쥬 꾸뛰르는 마음에 들어!\n",
      "경고! 입생로랑의 따뚜아쥬 꾸뛰르를 다 써 가!\n",
      "역시 입생로랑의 따뚜아쥬 꾸뛰르는 마음에 들어!\n",
      "역시 입생로랑의 따뚜아쥬 꾸뛰르는 마음에 들어!\n",
      "역시 입생로랑의 따뚜아쥬 꾸뛰르는 마음에 들어!\n",
      "역시 입생로랑의 따뚜아쥬 꾸뛰르는 마음에 들어!\n",
      "역시 입생로랑의 따뚜아쥬 꾸뛰르는 마음에 들어!\n",
      "내가 아끼는 입생로랑의 따뚜아쥬 꾸뛰르 를 벌써 다 썼네!\n",
      "이번엔 루쥬 알뤼르 잉크 매트을 쓸거야!\n",
      "역시 샤넬의 루쥬 알뤼르 잉크 매트는 마음에 들어!\n",
      "경고! 샤넬의 루쥬 알뤼르 잉크 매트를 다 써 가!\n",
      "역시 샤넬의 루쥬 알뤼르 잉크 매트는 마음에 들어!\n",
      "역시 샤넬의 루쥬 알뤼르 잉크 매트는 마음에 들어!\n",
      "역시 샤넬의 루쥬 알뤼르 잉크 매트는 마음에 들어!\n",
      "역시 샤넬의 루쥬 알뤼르 잉크 매트는 마음에 들어!\n",
      "역시 샤넬의 루쥬 알뤼르 잉크 매트는 마음에 들어!\n",
      "내가 아끼는 샤넬의 루쥬 알뤼르 잉크 매트 를 벌써 다 썼네!\n"
     ]
    }
   ],
   "source": [
    "for libstic in libstics:\n",
    "    print(\"이번엔 \" + libstic[\"name\"] + \"을 쓸거야!\")\n",
    "    isLowDurabilityAlert = False\n",
    "    useCount = 0\n",
    "    while libstic[\"durability\"] > 0: \n",
    "        libstic[\"durability\"] = libstic[\"durability\"] - size_of_my_libs\n",
    "        useCount += 1\n",
    "        if useCount % 20 == 0:\n",
    "            print('역시 {}의 {}는 마음에 들어!'.format(libstic['brand'], libstic['name']))\n",
    "        if libstic[\"durability\"] < 1000 and (not isLowDurabilityAlert):\n",
    "            print('경고! {}의 {}를 다 써 가!'.format(libstic['brand'], libstic['name']))\n",
    "            isLowDurabilityAlert = True\n",
    "\n",
    "    print(\"내가 아끼는\", libstic[\"brand\"] + \"의\", libstic[\"name\"], \"를 벌써 다 썼네!\")"
   ]
  },
  {
   "cell_type": "markdown",
   "metadata": {},
   "source": [
    "# Question 03"
   ]
  },
  {
   "cell_type": "code",
   "execution_count": 61,
   "metadata": {
    "ExecuteTime": {
     "end_time": "2019-03-21T18:16:34.947576Z",
     "start_time": "2019-03-21T18:16:34.937136Z"
    }
   },
   "outputs": [],
   "source": [
    "# 변수 선언 #\n",
    "# 여기는 설명을 할 필요가 없다. #\n",
    "my_pokes = [{\n",
    "    \"name\": \"캐터피\",\n",
    "    \"hp\": 80,\n",
    "    \"atk\": 10,\n",
    "    \"def\": 5,\n",
    "    \"type\": \"poison\",\n",
    "    \"immune\": \"poison\"\n",
    "},\n",
    "            {\n",
    "                \"name\": \"피죤\",\n",
    "                \"hp\": 120,\n",
    "                \"atk\": 50,\n",
    "                \"def\": 15,\n",
    "                \"type\": \"wind\",\n",
    "                \"immune\": \"wind\"\n",
    "            },\n",
    "            {\n",
    "                \"name\": \"파이리\",\n",
    "                \"hp\": 150,\n",
    "                \"atk\": 80,\n",
    "                \"def\": 20,\n",
    "                \"type\": \"fire\",\n",
    "                \"immune\": \"fire\"\n",
    "            },\n",
    "            {\n",
    "                \"name\": \"꼬부기\",\n",
    "                \"hp\": 200,\n",
    "                \"atk\": 70,\n",
    "                \"def\": 50,\n",
    "                \"type\": \"water\",\n",
    "                \"immune\": \"water\"\n",
    "            },\n",
    "            {\n",
    "                \"name\": \"버터플\",\n",
    "                \"hp\": 50,\n",
    "                \"atk\": 35,\n",
    "                \"def\": 10,\n",
    "                \"type\": \"poison\",\n",
    "                \"immune\": \"poison\"\n",
    "            },\n",
    "            {\n",
    "                \"name\": \"꼬마돌\",\n",
    "                \"hp\": 1500,\n",
    "                \"atk\": 320,\n",
    "                \"def\": 125,\n",
    "                \"type\": \"stone\",\n",
    "                \"immune\": \"thunder\"\n",
    "            }]\n",
    "\n",
    "enemy_pokes = [{\n",
    "    \"name\": \"피카츄\",\n",
    "    \"hp\": 1000,\n",
    "    \"atk\": 100,\n",
    "    \"def\": 100,\n",
    "    \"type\": \"thunder\",\n",
    "    \"immune\": \"thunder\"\n",
    "}]\n",
    "\n",
    "# 여기는 설명을 할 필요가 없다. #"
   ]
  },
  {
   "cell_type": "code",
   "execution_count": 62,
   "metadata": {
    "ExecuteTime": {
     "end_time": "2019-03-21T18:16:58.563556Z",
     "start_time": "2019-03-21T18:16:55.288614Z"
    }
   },
   "outputs": [
    {
     "name": "stdout",
     "output_type": "stream",
     "text": [
      "앗! 야생의 피카츄(이)가 나타났다!\n",
      "어떻게 하시겠습니까?\n",
      "      1) 싸운다.\n",
      "      2) 도망간다.\n"
     ]
    },
    {
     "name": "stdin",
     "output_type": "stream",
     "text": [
      " 1\n"
     ]
    },
    {
     "name": "stdout",
     "output_type": "stream",
     "text": [
      "전투를 시작합니다.\n",
      "내보낼 포켓몬을 선택해주세요.\n",
      "1 : 캐터피\n",
      "2 : 피죤\n",
      "3 : 파이리\n",
      "4 : 꼬부기\n",
      "5 : 버터플\n",
      "6 : 꼬마돌\n"
     ]
    },
    {
     "name": "stdin",
     "output_type": "stream",
     "text": [
      " -5\n"
     ]
    },
    {
     "name": "stdout",
     "output_type": "stream",
     "text": [
      "캐터피 은 피곤하다!\n"
     ]
    }
   ],
   "source": [
    "print(\"\"\"앗! 야생의 피카츄(이)가 나타났다!\n",
    "어떻게 하시겠습니까?\n",
    "      1) 싸운다.\n",
    "      2) 도망간다.\"\"\")\n",
    "\n",
    "## 설명 시작 ##\n",
    "\n",
    "#설명1: \n",
    "while True:\n",
    "    #설명2: \n",
    "    decision = input()\n",
    "    #설명3: \n",
    "    if (decision not in ['1', '2']):\n",
    "        print(\"올바른 값을 입력해주세요.\")\n",
    "        #설명4: \n",
    "        continue\n",
    "    #설명5: \n",
    "    break\n",
    "\n",
    "#설명6: \n",
    "if decision == '2':\n",
    "    print(\"겁쟁이가 되어서는 안돼...!\")\n",
    "\n",
    "print(\"전투를 시작합니다.\")\n",
    "print(\"내보낼 포켓몬을 선택해주세요.\")\n",
    "#설명7: \n",
    "for order, my_poke in enumerate(my_pokes):\n",
    "    print(\"{} : {}\".format(order + 1, my_poke[\"name\"]))\n",
    "\n",
    "#설명8: \n",
    "while True:\n",
    "    sel_poke = int(input())\n",
    "    #설명9: \n",
    "    if (sel_poke - 1 >= len(my_pokes)):\n",
    "        print(\"올바른 값을 입력해주세요.\")\n",
    "        #설명10: \n",
    "        continue\n",
    "\n",
    "    #설명10: \n",
    "    print(my_pokes[sel_poke - 1][\"name\"], \"은 피곤하다!\")\n",
    "    break\n",
    "\n",
    "## 설명 끝 ##"
   ]
  },
  {
   "cell_type": "markdown",
   "metadata": {},
   "source": [
    "**설명1:** "
   ]
  },
  {
   "cell_type": "raw",
   "metadata": {},
   "source": [
    "조건문이 언제나 참(True)이기 때문에 break이 등장하기 전까지 while 문 안의 구문을 계속 실행한다."
   ]
  },
  {
   "cell_type": "markdown",
   "metadata": {},
   "source": [
    "**설명2:** "
   ]
  },
  {
   "cell_type": "raw",
   "metadata": {},
   "source": [
    "decision 변수에 input 함수를 사용하여 사용자에게 입력을 받아 값을 지정한다."
   ]
  },
  {
   "cell_type": "markdown",
   "metadata": {},
   "source": [
    " "
   ]
  },
  {
   "cell_type": "markdown",
   "metadata": {},
   "source": [
    "**설명3:** "
   ]
  },
  {
   "cell_type": "raw",
   "metadata": {},
   "source": [
    "decision 변수의 값이 문자열 1 혹은 2가 아니라면 if 문 안의 구문을 실행한다."
   ]
  },
  {
   "cell_type": "markdown",
   "metadata": {},
   "source": [
    " "
   ]
  },
  {
   "cell_type": "markdown",
   "metadata": {},
   "source": [
    "**설명4:** "
   ]
  },
  {
   "cell_type": "raw",
   "metadata": {},
   "source": [
    "continue 아래의 코드를 실행하지 않고 다음 루프를 실행한다.\n",
    "decision 이 문자열 1 혹은 2 가 아니라면 continue 를 만나 while 문 안의 구문을 다시 실행할 것이다."
   ]
  },
  {
   "cell_type": "markdown",
   "metadata": {},
   "source": [
    " "
   ]
  },
  {
   "cell_type": "markdown",
   "metadata": {},
   "source": [
    "**설명5:** "
   ]
  },
  {
   "cell_type": "raw",
   "metadata": {},
   "source": [
    "while 문의 조건문이 참인지 여부와 관계없이 그만 루프할 때 break 을 사용한다.\n",
    "decision 이 문자열 1 혹은 2 라면 if 문 안의 continue 를 만나지 않아 break 을 만나게 되어 while 문의 루프가 중단될 것이다."
   ]
  },
  {
   "cell_type": "markdown",
   "metadata": {},
   "source": [
    " "
   ]
  },
  {
   "cell_type": "markdown",
   "metadata": {},
   "source": [
    "**설명6:** "
   ]
  },
  {
   "cell_type": "raw",
   "metadata": {},
   "source": [
    "decision 의 값이 문자열 2 라면 if 문 안의 구문을 실행한다."
   ]
  },
  {
   "cell_type": "markdown",
   "metadata": {},
   "source": [
    " "
   ]
  },
  {
   "cell_type": "markdown",
   "metadata": {},
   "source": [
    "**설명7:** "
   ]
  },
  {
   "cell_type": "raw",
   "metadata": {},
   "source": [
    "리스트인 my_pokes 를 enumerate 로 캐스트한 값을 for 문을 사용하여 반복하고 있다.\n",
    "i 에는 인덱스, my_poke 에는 my_pokes 의 값을 할당해 루프를 실행하고 있다.\n",
    "for 문 안의 print는 문자열 포맷팅을 사용하였다.\n",
    "첫 째 괄호에는 인덱스에 1을 더한 값으로, 1부터 차례로 대입될 것이다.\n",
    "둘 째 괄호에는 my_poke의 name 의 값이 대입될 것이다."
   ]
  },
  {
   "cell_type": "markdown",
   "metadata": {},
   "source": [
    " "
   ]
  },
  {
   "cell_type": "markdown",
   "metadata": {},
   "source": [
    "**설명8:** "
   ]
  },
  {
   "cell_type": "raw",
   "metadata": {},
   "source": [
    "조건문이 언제나 참(True)이기 때문에 break이 등장하기 전까지 while 문 안의 구문을 계속 실행한다."
   ]
  },
  {
   "cell_type": "markdown",
   "metadata": {},
   "source": [
    " "
   ]
  },
  {
   "cell_type": "markdown",
   "metadata": {},
   "source": [
    "**설명9:** "
   ]
  },
  {
   "cell_type": "raw",
   "metadata": {},
   "source": [
    "이 if 문은\n",
    "    사용자 입력 값을 int로 캐스트한 변수인 sel_poke 에서 1을 뺀 값이\n",
    "    리스트 my_pokes 의 길이보다\n",
    "    크거가 같은지 비교하는\n",
    "조건문을 가지고 있다.\n",
    "my_pokes 의 길이는 6이다.\n",
    "사용자가 6을 입력하는 경우 sel_poke - 1 = 5 이며, sel_poke - 1 >=len(my_pokes) 가 거짓이다.\n",
    "사용자가 7을 입력하는 경우 sel_poke - 1 = 6 이며, sel_poke - 1 >=len(my_pokes) 가 참이다.\n",
    "if 문의 조건문이 참인 경우 if 문 내의 구문을 실행하고, 거짓인 경우 무시한다."
   ]
  },
  {
   "cell_type": "markdown",
   "metadata": {},
   "source": [
    " "
   ]
  },
  {
   "cell_type": "markdown",
   "metadata": {},
   "source": [
    "**설명10:** "
   ]
  },
  {
   "cell_type": "raw",
   "metadata": {},
   "source": [
    "설명 9의 if 문의 조건문이 충족되었을 때 continue 문을 만나 continue 아래의 구문을 무시하고 새로 루프를 실행한다.\n",
    "설명 9의 if 문의 조건문이 충족되지 않았을 때 print 함수를 실행하고 break을 만남으로써 아래 구문을 무시하고 while 문의 루프를 중단한다.\n",
    "(sel_poke - 1)가 음수가 되는 경우 -5 까지는 실행되지만 -6 부터는 my_pokes[-7] 값을 찾을 수 없기 때문에 오류가 발생한다."
   ]
  }
 ],
 "metadata": {
  "kernelspec": {
   "display_name": "Python 3",
   "language": "python",
   "name": "python3"
  },
  "language_info": {
   "codemirror_mode": {
    "name": "ipython",
    "version": 3
   },
   "file_extension": ".py",
   "mimetype": "text/x-python",
   "name": "python",
   "nbconvert_exporter": "python",
   "pygments_lexer": "ipython3",
   "version": "3.8.6"
  },
  "toc": {
   "base_numbering": 1,
   "nav_menu": {},
   "number_sections": true,
   "sideBar": true,
   "skip_h1_title": false,
   "title_cell": "Table of Contents",
   "title_sidebar": "Contents",
   "toc_cell": false,
   "toc_position": {
    "height": "calc(100% - 180px)",
    "left": "10px",
    "top": "150px",
    "width": "223.391px"
   },
   "toc_section_display": true,
   "toc_window_display": true
  },
  "varInspector": {
   "cols": {
    "lenName": 16,
    "lenType": 16,
    "lenVar": 40
   },
   "kernels_config": {
    "python": {
     "delete_cmd_postfix": "",
     "delete_cmd_prefix": "del ",
     "library": "var_list.py",
     "varRefreshCmd": "print(var_dic_list())"
    },
    "r": {
     "delete_cmd_postfix": ") ",
     "delete_cmd_prefix": "rm(",
     "library": "var_list.r",
     "varRefreshCmd": "cat(var_dic_list()) "
    }
   },
   "types_to_exclude": [
    "module",
    "function",
    "builtin_function_or_method",
    "instance",
    "_Feature"
   ],
   "window_display": false
  }
 },
 "nbformat": 4,
 "nbformat_minor": 4
}
