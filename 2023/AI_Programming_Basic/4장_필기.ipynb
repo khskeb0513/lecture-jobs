{
 "cells": [
  {
   "cell_type": "markdown",
   "id": "opponent-moment",
   "metadata": {},
   "source": [
    "함수 안에서 사용되는 변수: 매개변수 parameter foor(m, n) 의 m, n\n",
    "함수 사용 시 괄호 안에 넣는 것들: 전달인자 argument foo(3, 4)의 3, 4"
   ]
  },
  {
   "cell_type": "markdown",
   "id": "optimum-right",
   "metadata": {},
   "source": [
    "가변인자는 *argument"
   ]
  },
  {
   "cell_type": "code",
   "execution_count": null,
   "id": "successful-passport",
   "metadata": {},
   "outputs": [],
   "source": [
    "asdf"
   ]
  }
 ],
 "metadata": {
  "kernelspec": {
   "display_name": "Python 3 (ipykernel)",
   "language": "python",
   "name": "python3"
  },
  "language_info": {
   "codemirror_mode": {
    "name": "ipython",
    "version": 3
   },
   "file_extension": ".py",
   "mimetype": "text/x-python",
   "name": "python",
   "nbconvert_exporter": "python",
   "pygments_lexer": "ipython3",
   "version": "3.10.6"
  }
 },
 "nbformat": 4,
 "nbformat_minor": 5
}
