{
 "cells": [
  {
   "cell_type": "markdown",
   "id": "atomic-approval",
   "metadata": {},
   "source": [
    "## 1주차 제출 답안지"
   ]
  },
  {
   "cell_type": "markdown",
   "id": "direct-substance",
   "metadata": {},
   "source": [
    "> 아주대학교 e-비즈니즈학과 202221498 강현승"
   ]
  },
  {
   "cell_type": "markdown",
   "id": "sophisticated-minutes",
   "metadata": {},
   "source": [
    "### 1주차 1차시"
   ]
  },
  {
   "cell_type": "markdown",
   "id": "african-neighborhood",
   "metadata": {},
   "source": [
    "#### LAB 2-1"
   ]
  },
  {
   "cell_type": "code",
   "execution_count": 32,
   "id": "elect-compilation",
   "metadata": {},
   "outputs": [
    {
     "name": "stdout",
     "output_type": "stream",
     "text": [
      "나의 이름은 : 홍길동\n",
      "나의 나이는 : 27\n",
      "나의 키는 179 cm 입니다.\n",
      "10 + 20 = 30\n",
      "10 * 20 = 200\n"
     ]
    }
   ],
   "source": [
    "# LAB 2-1 : 대화식 모드에서 출력하기\n",
    "print('나의 이름은 :', '홍길동')\n",
    "print('나의 나이는 :', 27)\n",
    "print('나의 키는', 179, 'cm 입니다.')\n",
    "print('10 + 20 =', 10 + 20)\n",
    "print('10 * 20 =', 10 * 20)"
   ]
  },
  {
   "cell_type": "markdown",
   "id": "finnish-landscape",
   "metadata": {},
   "source": [
    "#### LAB 2-4"
   ]
  },
  {
   "cell_type": "code",
   "execution_count": 33,
   "id": "interesting-habitat",
   "metadata": {},
   "outputs": [
    {
     "name": "stdout",
     "output_type": "stream",
     "text": [
      "나의 이름은 : 전우치\n",
      "나의 나이는 : 27\n",
      "나의 키는 179 cm 입니다.\n",
      "10 + 20 = 30\n",
      "10 * 20 = 200\n"
     ]
    }
   ],
   "source": [
    "# LAB 2-4 : 다음 코드를 입력해 보고 그 출력결과를 밑줄 부분에 적으시오.\n",
    "name = '전우치'\n",
    "print('나의 이름은 :', name)\n",
    "\n",
    "age = 27\n",
    "print('나의 나이는 :', age)\n",
    "\n",
    "height = 179\n",
    "print('나의 키는', height, 'cm 입니다.')\n",
    "\n",
    "sum = 10 + 20\n",
    "print('10 + 20 =', sum)\n",
    "\n",
    "mult = 10 * 20\n",
    "print('10 * 20 =', mult)"
   ]
  },
  {
   "cell_type": "markdown",
   "id": "characteristic-handy",
   "metadata": {},
   "source": [
    "#### LAB 2-6"
   ]
  },
  {
   "cell_type": "code",
   "execution_count": 34,
   "id": "level-reserve",
   "metadata": {},
   "outputs": [
    {
     "name": "stdout",
     "output_type": "stream",
     "text": [
      "사각형의 면적 1200\n"
     ]
    }
   ],
   "source": [
    "# LAB 2-6 : 변수 값의 재지정\n",
    "width = 20\n",
    "height = 40\n",
    "width = 30\n",
    "area = width * height\n",
    "print('사각형의 면적', area)"
   ]
  },
  {
   "cell_type": "markdown",
   "id": "mental-independence",
   "metadata": {},
   "source": [
    "#### LAB 2-7"
   ]
  },
  {
   "cell_type": "code",
   "execution_count": 19,
   "id": "educated-layout",
   "metadata": {
    "scrolled": true
   },
   "outputs": [
    {
     "name": "stdout",
     "output_type": "stream",
     "text": [
      "1) 123 * 456 =  56088\n",
      "2) 1357 + 2468 =  3825\n",
      "3) 5 ** 4 =  625\n",
      "4) 10 / 4 =  2.5\n",
      "5) 10 // 5 =  2\n",
      "6) 10 % 5 =  0 \n",
      "\n",
      "5 // 2 =  2 \n",
      "\n",
      "2 ^ 0.5 = 1.4142135623730951\n",
      "3 ^ 0.5 = 1.7320508075688772\n"
     ]
    }
   ],
   "source": [
    "# LAB 2-7 : 파이썬 연산자의 사용\n",
    "# 1. 다음과 같은 계산을 파이썬 대화창에서 수행하고 그 결과를 적으시오.\n",
    "print('1) 123 * 456 = ', 123 * 456)\n",
    "print('2) 1357 + 2468 = ', 1357 + 2468)\n",
    "print('3) 5 ** 4 = ', 5 ** 4)\n",
    "print('4) 10 / 4 = ', 10 / 4)\n",
    "print('5) 10 // 5 = ', 10 // 5)\n",
    "print('6) 10 % 5 = ', 10 % 5, '\\n')\n",
    "\n",
    "# 2. 5를 2로 나눈 나머지를 구하시오. 이를 구하기 위한 파이썬 수식을 적으시오.\n",
    "print('5 // 2 = ', 5 // 2, '\\n')\n",
    "\n",
    "# 3. 2의 제곱근 sqrt(2)와 3의 제곱근 sqrt(3)을 ** 연산자를 사용하여 각각 구하라.\n",
    "print('2 ^ 0.5 =', 2 ** 0.5)\n",
    "print('3 ^ 0.5 =', 3 ** 0.5)"
   ]
  },
  {
   "cell_type": "markdown",
   "id": "dramatic-income",
   "metadata": {},
   "source": [
    "### 1주차 2차시"
   ]
  },
  {
   "cell_type": "markdown",
   "id": "thrown-combination",
   "metadata": {},
   "source": [
    "#### 실습문제1"
   ]
  },
  {
   "cell_type": "code",
   "execution_count": 21,
   "id": "scientific-subject",
   "metadata": {},
   "outputs": [
    {
     "name": "stdout",
     "output_type": "stream",
     "text": [
      "내 원 반지름: 2 의 면적: 12.566368\n",
      "내 원 반지름: 7 의 면적: 153.938008\n"
     ]
    }
   ],
   "source": [
    "# 파이값 할당\n",
    "pi = 3.141592\n",
    "# 원 반지름 할당\n",
    "myCircleRadius = 2\n",
    "# 원 면적 출력\n",
    "print('내 원 반지름:', myCircleRadius, '의 면적:', pi * ( myCircleRadius ** 2 ))\n",
    "# 원 반지름 재할당\n",
    "myCircleRadius += 5\n",
    "# 원 면적 출력\n",
    "print('내 원 반지름:', myCircleRadius, '의 면적:', pi * ( myCircleRadius ** 2 ))"
   ]
  },
  {
   "cell_type": "markdown",
   "id": "friendly-collaboration",
   "metadata": {},
   "source": [
    "#### 실습문제2"
   ]
  },
  {
   "cell_type": "code",
   "execution_count": 22,
   "id": "foreign-article",
   "metadata": {},
   "outputs": [
    {
     "name": "stdout",
     "output_type": "stream",
     "text": [
      "2\n",
      "입력한 원 반지름: 2 의 면적: 12.566368\n"
     ]
    }
   ],
   "source": [
    "# 입력 받아 정수형으로 변환\n",
    "myCircleRadius = int(input())\n",
    "# 원 면적 출력\n",
    "print('입력한 원 반지름:', myCircleRadius, '의 면적:', pi * ( myCircleRadius ** 2 ))"
   ]
  },
  {
   "cell_type": "markdown",
   "id": "framed-recycling",
   "metadata": {},
   "source": [
    "#### 실습문제3"
   ]
  },
  {
   "cell_type": "code",
   "execution_count": 14,
   "id": "beneficial-alloy",
   "metadata": {},
   "outputs": [
    {
     "name": "stdout",
     "output_type": "stream",
     "text": [
      "34\n",
      "93.2 ℉\n"
     ]
    }
   ],
   "source": [
    "# 섭씨 입력\n",
    "cTemp = float(input())\n",
    "# 화씨화하여 출력\n",
    "print((cTemp * 1.8) + 32, '℉')"
   ]
  }
 ],
 "metadata": {
  "kernelspec": {
   "display_name": "Python 3",
   "language": "python",
   "name": "python3"
  },
  "language_info": {
   "codemirror_mode": {
    "name": "ipython",
    "version": 3
   },
   "file_extension": ".py",
   "mimetype": "text/x-python",
   "name": "python",
   "nbconvert_exporter": "python",
   "pygments_lexer": "ipython3",
   "version": "3.8.6"
  }
 },
 "nbformat": 4,
 "nbformat_minor": 5
}
