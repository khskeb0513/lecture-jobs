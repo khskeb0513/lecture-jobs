{
 "cells": [
  {
   "cell_type": "markdown",
   "id": "religious-musician",
   "metadata": {},
   "source": [
    "### LAB 4-5: 두 수 연산을 수행하는 함수"
   ]
  },
  {
   "cell_type": "markdown",
   "id": "nonprofit-category",
   "metadata": {},
   "source": [
    "#### 1. 차 출력"
   ]
  },
  {
   "cell_type": "code",
   "execution_count": 3,
   "id": "determined-circular",
   "metadata": {},
   "outputs": [
    {
     "name": "stdout",
     "output_type": "stream",
     "text": [
      "10과 20의 차는 -10입니다.\n"
     ]
    }
   ],
   "source": [
    "def print_sub(a, b):\n",
    "    print('{}과 {}의 차는 {}입니다.'.format(a, b, a-b))\n",
    "print_sub(10, 20)"
   ]
  },
  {
   "cell_type": "markdown",
   "id": "mature-permission",
   "metadata": {},
   "source": [
    "#### 2. 곱 출력"
   ]
  },
  {
   "cell_type": "code",
   "execution_count": 4,
   "id": "completed-stretch",
   "metadata": {},
   "outputs": [
    {
     "name": "stdout",
     "output_type": "stream",
     "text": [
      "10과 20의 곱은 200입니다.\n"
     ]
    }
   ],
   "source": [
    "def print_mult(a, b):\n",
    "    print('{}과 {}의 곱은 {}입니다.'.format(a, b, a*b))\n",
    "print_mult(10, 20)"
   ]
  },
  {
   "cell_type": "markdown",
   "id": "ca4dc53c",
   "metadata": {},
   "source": [
    "### LAB 4-6: 함수의 사용"
   ]
  },
  {
   "cell_type": "markdown",
   "id": "23f4441f",
   "metadata": {},
   "source": [
    "#### 1. 2차 방정식 근 계산"
   ]
  },
  {
   "cell_type": "code",
   "execution_count": 8,
   "id": "edf223d6",
   "metadata": {},
   "outputs": [
    {
     "name": "stdout",
     "output_type": "stream",
     "text": [
      "해는 3.0 또는 -7.0\n",
      "해는 4.0 또는 2.0\n"
     ]
    }
   ],
   "source": [
    "def print_root(a, b, c):\n",
    "    r1 = (-b + (b ** 2 - 4 * a * c) ** 0.5) / (2 * a)\n",
    "    r2 = (-b - (b ** 2 - 4 * a * c) ** 0.5) / (2 * a)\n",
    "    print('해는', r1, '또는', r2)\n",
    "\n",
    "# (1)\n",
    "print_root(1, 4, -21)\n",
    "# (2)\n",
    "print_root(1, -6, 8)"
   ]
  },
  {
   "cell_type": "markdown",
   "id": "dde3fbee",
   "metadata": {},
   "source": [
    "#### 2. 삼각형 면적 계산"
   ]
  },
  {
   "cell_type": "code",
   "execution_count": 24,
   "id": "ceb35ec5",
   "metadata": {},
   "outputs": [
    {
     "name": "stdout",
     "output_type": "stream",
     "text": [
      "밑변 10, 높이 20인 삼각의 면적은 : 100\n"
     ]
    }
   ],
   "source": [
    "def print_area(width, height):\n",
    "    print(\n",
    "        '밑변 {}, 높이 {}인 삼각의 면적은 : {}'.format(\n",
    "            width,\n",
    "            height,\n",
    "            int(width * height * 1/2)\n",
    "        )\n",
    "    )\n",
    "print_area(10, 20)"
   ]
  },
  {
   "cell_type": "markdown",
   "id": "e3b95e6e",
   "metadata": {},
   "source": [
    "### LAB 4-7: 원의 면적과 둘레를 반환하는 함수"
   ]
  },
  {
   "cell_type": "markdown",
   "id": "89f72cf5",
   "metadata": {},
   "source": [
    "#### 1. 원의 면적과 둘레를 반환하는 함수"
   ]
  },
  {
   "cell_type": "code",
   "execution_count": 22,
   "id": "8f7b4241",
   "metadata": {},
   "outputs": [
    {
     "name": "stdout",
     "output_type": "stream",
     "text": [
      "반지름 10인 원의 면은 314.0, 원의 둘레는 62.8\n"
     ]
    }
   ],
   "source": [
    "def circle_area_circum(radius):\n",
    "    pi = 3.14\n",
    "    area = radius ** 2 * pi\n",
    "    circum = radius * 2 * pi\n",
    "    return area, circum\n",
    "radius = 10\n",
    "area, circum = circle_area_circum(radius)\n",
    "print('반지름 {}인 원의 면은 {:.1f}, 원의 둘레는 {:.1f}'.format(\n",
    "    radius,\n",
    "    area,\n",
    "    circum\n",
    "))"
   ]
  },
  {
   "cell_type": "markdown",
   "id": "3b5b02b0",
   "metadata": {},
   "source": [
    "### LAB 4-8: 다수의 결과를 반환하는 함수 만들기"
   ]
  },
  {
   "cell_type": "markdown",
   "id": "8a569297",
   "metadata": {},
   "source": [
    "#### 1. n의 배수 m개를 반환하는 multiplies 함수 구현"
   ]
  },
  {
   "cell_type": "code",
   "execution_count": 103,
   "id": "6239cebf",
   "metadata": {},
   "outputs": [
    {
     "name": "stdout",
     "output_type": "stream",
     "text": [
      "3 6 9 12\n",
      "2 4 6 8 10\n"
     ]
    }
   ],
   "source": [
    "def multiplies(m, n):\n",
    "    result = []\n",
    "    for i in range(1, n + 1):\n",
    "        result.append(m * i)\n",
    "    return tuple(result)\n",
    "r1, r2, r3, r4 = multiplies(3, 4)\n",
    "print(r1, r2, r3, r4)\n",
    "r1, r2, r3, r4, r5 = multiplies(2, 5)\n",
    "print(r1, r2, r3, r4, r5)"
   ]
  },
  {
   "cell_type": "markdown",
   "id": "d04b6fdc",
   "metadata": {},
   "source": [
    "### LAB 4-9: 키워드 인자"
   ]
  },
  {
   "cell_type": "markdown",
   "id": "200935c3",
   "metadata": {},
   "source": [
    "#### 1."
   ]
  },
  {
   "cell_type": "code",
   "execution_count": 48,
   "id": "4a892616",
   "metadata": {},
   "outputs": [
    {
     "name": "stdout",
     "output_type": "stream",
     "text": [
      "Dr. Gildong Hong\n",
      "Gildong Hong Dr.\n"
     ]
    }
   ],
   "source": [
    "def print_name(honorifics, first_name, last_name):\n",
    "    '''키워드 인자를 이용한 출력용 프로그램'''\n",
    "    print(honorifics, first_name, last_name)\n",
    "\n",
    "# a)\n",
    "print_name(first_name='Gildong', last_name='Hong', honorifics='Dr.')\n",
    "\n",
    "# b)\n",
    "print_name('Gildong', 'Hong', 'Dr.')"
   ]
  },
  {
   "cell_type": "markdown",
   "id": "2dd990de",
   "metadata": {},
   "source": [
    "### LAB 4-9: 가변 인자의 활용"
   ]
  },
  {
   "cell_type": "markdown",
   "id": "d8e259ba",
   "metadata": {},
   "source": [
    "#### 1."
   ]
  },
  {
   "cell_type": "code",
   "execution_count": 57,
   "id": "4594d5ca",
   "metadata": {},
   "outputs": [
    {
     "name": "stdout",
     "output_type": "stream",
     "text": [
      "3 개의 인자 (10, 20, 30)\n",
      "합계 : 60 , 평균 : 20.0\n",
      "5 개의 인자 (10, 20, 30, 40, 50)\n",
      "합계 : 150 , 평균 : 30.0\n"
     ]
    }
   ],
   "source": [
    "def sum_nums(*numbers):\n",
    "    print(\n",
    "        '{} 개의 인자 {}'.format(\n",
    "            len(numbers),\n",
    "            numbers,\n",
    "        )\n",
    "    )\n",
    "    print(\n",
    "        '합계 : {} , 평균 : {}'.format(\n",
    "            sum(numbers),\n",
    "            sum(numbers) / len(numbers)\n",
    "        )\n",
    "    )\n",
    "sum_nums(10, 20, 30)\n",
    "sum_nums(10, 20, 30, 40, 50)"
   ]
  },
  {
   "cell_type": "markdown",
   "id": "dd865049",
   "metadata": {},
   "source": [
    "#### 2."
   ]
  },
  {
   "cell_type": "code",
   "execution_count": 59,
   "id": "55ea352d",
   "metadata": {},
   "outputs": [
    {
     "name": "stdout",
     "output_type": "stream",
     "text": [
      "최솟값은 10\n"
     ]
    }
   ],
   "source": [
    "def min_nums(*numbers):\n",
    "    result = numbers[0]\n",
    "    for number in numbers:\n",
    "        if result > number:\n",
    "            result = number\n",
    "    print('최솟값은', result)\n",
    "\n",
    "min_nums(20, 40, 50, 10)"
   ]
  }
 ],
 "metadata": {
  "kernelspec": {
   "display_name": "Python 3 (ipykernel)",
   "language": "python",
   "name": "python3"
  },
  "language_info": {
   "codemirror_mode": {
    "name": "ipython",
    "version": 3
   },
   "file_extension": ".py",
   "mimetype": "text/x-python",
   "name": "python",
   "nbconvert_exporter": "python",
   "pygments_lexer": "ipython3",
   "version": "3.10.6"
  }
 },
 "nbformat": 4,
 "nbformat_minor": 5
}
