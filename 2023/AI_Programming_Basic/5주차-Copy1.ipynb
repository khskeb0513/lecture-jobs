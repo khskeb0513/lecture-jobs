{
 "cells": [
  {
   "cell_type": "markdown",
   "id": "69202ef1-d5f8-4f3c-bdd6-6f5729cf773d",
   "metadata": {
    "tags": []
   },
   "source": [
    "<center>\n",
    "    <h2>인공지능 프로그래밍언어 기초 4장 함수 실습문제 1-3</h2>\n",
    "</center>"
   ]
  },
  {
   "cell_type": "markdown",
   "id": "eeabf3d8-1854-4eaf-b397-9b589464f9fa",
   "metadata": {},
   "source": [
    "<p style=\"text-align: right;font-size: 1.4em\">\n",
    "    학과: e-비즈니스학과<br>\n",
    "    학번: 202221498<br>\n",
    "    이름: 강 현승\n",
    "</p>"
   ]
  },
  {
   "cell_type": "markdown",
   "id": "4d9046d6-315c-4931-aaa1-3dd08151000e",
   "metadata": {},
   "source": [
    "### 실습 1"
   ]
  },
  {
   "cell_type": "code",
   "execution_count": 88,
   "id": "5f4da568-7702-424c-891c-616fa21a32f6",
   "metadata": {
    "tags": []
   },
   "outputs": [
    {
     "name": "stdin",
     "output_type": "stream",
     "text": [
      "쉼표로 구분된 정수를 임의의 개수 입력하시오:  56, 67,89 , 34\n"
     ]
    },
    {
     "name": "stdout",
     "output_type": "stream",
     "text": [
      "inputList: ['56', ' 67', '89 ', ' 34']\n",
      "입력된 정수의 리스트: [56, 67, 89, 34]\n",
      "정렬된 정수의 리스트: 34 56 67 89 "
     ]
    }
   ],
   "source": [
    "inputs = input('쉼표로 구분된 정수를 임의의 개수 입력하시오: ').split(',')\n",
    "\n",
    "print('inputList:', inputs)\n",
    "numbers = [int(i) for i in inputs]\n",
    "print('입력된 정수의 리스트:', numbers)\n",
    "print('정렬된 정수의 리스트:', end = ' ')\n",
    "for i in sorted(numbers):\n",
    "    print(i, end = ' ')"
   ]
  },
  {
   "cell_type": "markdown",
   "id": "1d104fa0-589a-4638-964e-9712164738fd",
   "metadata": {},
   "source": [
    "### 실습 2"
   ]
  },
  {
   "cell_type": "code",
   "execution_count": 72,
   "id": "28c64eb5-15ee-4d00-8315-d1d2558a9404",
   "metadata": {
    "tags": []
   },
   "outputs": [
    {
     "name": "stdout",
     "output_type": "stream",
     "text": [
      "10에서  20까지의 정수의 합 :  165\n",
      "40에서 100까지의 정수의 합 : 4270\n"
     ]
    }
   ],
   "source": [
    "def sum_range(n1, n2):\n",
    "    print('{:2d}에서 {:3d}까지의 정수의 합 : {:4d}'.format(n1, n2, sum(range(n1, n2 + 1))))\n",
    "\n",
    "sum_range(10, 20)\n",
    "sum_range(40, 100)"
   ]
  },
  {
   "cell_type": "markdown",
   "id": "982d7e4b-6e71-4acc-9b88-ca87fe191075",
   "metadata": {},
   "source": [
    "### 실습 3"
   ]
  },
  {
   "cell_type": "markdown",
   "id": "37756d72-12f2-4cc5-b237-5dd86f965e43",
   "metadata": {},
   "source": [
    "#### 1. 날짜 -> 민번"
   ]
  },
  {
   "cell_type": "code",
   "execution_count": 76,
   "id": "6abf3b22-b466-462d-ab5c-453c67b13469",
   "metadata": {
    "tags": []
   },
   "outputs": [
    {
     "name": "stdout",
     "output_type": "stream",
     "text": [
      "2023-04-03 07:01:03.152425\n",
      "현재 시간은 2023년 4월 3일입니다.\n",
      "지금 태어난 아이의 주민등록번호 앞자리는 : 20230403\n"
     ]
    }
   ],
   "source": [
    "import datetime \n",
    "date = datetime.datetime.now()\n",
    "print(date)\n",
    "\n",
    "y, m, d = date.year, date.month, date.day\n",
    "print('현재 시간은', '{}년 {}월 {}일입니다.'.format(y, m, d))\n",
    "print('지금 태어난 아이의 주민등록번호 앞자리는 :', '{:04}{:02}{:02}'.format(y, m, d))"
   ]
  },
  {
   "cell_type": "markdown",
   "id": "7806e642-8840-4580-b25d-67940dc1656e",
   "metadata": {},
   "source": [
    "#### 2. 민번 -> 날짜"
   ]
  },
  {
   "cell_type": "code",
   "execution_count": 2,
   "id": "7682546a-db63-4f5a-a9b5-6ae76ed1fe6c",
   "metadata": {
    "tags": []
   },
   "outputs": [
    {
     "name": "stdin",
     "output_type": "stream",
     "text": [
      "주민등록번호 첫 6숫자 형식 입력:  010203\n"
     ]
    },
    {
     "name": "stdout",
     "output_type": "stream",
     "text": [
      "2001년 02월 03일\n"
     ]
    }
   ],
   "source": [
    "date = input('주민등록번호 첫 6숫자 형식 입력: ')\n",
    "year = int(date[0] + date[1])\n",
    "if year >= 50:\n",
    "    year += 1900\n",
    "else:\n",
    "    year += 2000\n",
    "\n",
    "month = int(date[2] + date[3])\n",
    "day = int(date[4] + date[5])\n",
    "print('{}년 {:02d}월 {:02d}일'.format(year, month, day))"
   ]
  }
 ],
 "metadata": {
  "kernelspec": {
   "display_name": "Python 3 (ipykernel)",
   "language": "python",
   "name": "python3"
  },
  "language_info": {
   "codemirror_mode": {
    "name": "ipython",
    "version": 3
   },
   "file_extension": ".py",
   "mimetype": "text/x-python",
   "name": "python",
   "nbconvert_exporter": "python",
   "pygments_lexer": "ipython3",
   "version": "3.10.6"
  }
 },
 "nbformat": 4,
 "nbformat_minor": 5
}
