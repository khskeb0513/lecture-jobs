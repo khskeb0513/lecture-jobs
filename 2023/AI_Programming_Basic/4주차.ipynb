{
 "cells": [
  {
   "cell_type": "markdown",
   "id": "fc903246-1964-4b4d-87de-b3cb9bffeda4",
   "metadata": {},
   "source": [
    "<center>\n",
    "    <h2>인공지능 프로그래밍언어 기초 4장 과제</h2>\n",
    "</center>"
   ]
  },
  {
   "cell_type": "markdown",
   "id": "c3f5dfb6-4078-4270-8442-c220f836a494",
   "metadata": {},
   "source": [
    "<p style=\"text-align: right;font-size: 1.4em\">\n",
    "    학과: e-비즈니스학과<br>\n",
    "    학번: 202221498<br>\n",
    "    이름: 강 현승\n",
    "</p>"
   ]
  },
  {
   "cell_type": "markdown",
   "id": "f9bee679-3c27-42b3-a0d9-5aeafbc9e5dd",
   "metadata": {},
   "source": [
    "## 4주차 01 함수"
   ]
  },
  {
   "cell_type": "markdown",
   "id": "4cc59803-9115-4aa2-b0a5-f2afd0abbce9",
   "metadata": {},
   "source": [
    "### LAB 4-5: 두 수 연산을 수행하는 함수"
   ]
  },
  {
   "cell_type": "markdown",
   "id": "5f887a6d-cb69-4409-bcf0-3cb2ef2da2d9",
   "metadata": {},
   "source": [
    "#### 1. 차 출력"
   ]
  },
  {
   "cell_type": "code",
   "execution_count": 2,
   "id": "755b1707-d6e1-47df-945d-ebbb3e071322",
   "metadata": {
    "tags": []
   },
   "outputs": [
    {
     "name": "stdout",
     "output_type": "stream",
     "text": [
      "10과 20의 차는 -10입니다.\n"
     ]
    }
   ],
   "source": [
    "def print_sub(a, b):\n",
    "    print('{}과 {}의 차는 {}입니다.'.format(a, b, a - b))\n",
    "print_sub(10, 20)"
   ]
  },
  {
   "cell_type": "markdown",
   "id": "3d6410af-e8bb-40c2-9d9f-a78f7422072d",
   "metadata": {},
   "source": [
    "#### 2. 곱 출력"
   ]
  },
  {
   "cell_type": "code",
   "execution_count": 3,
   "id": "6b75e93a-a558-4d43-853d-e755c9f4fd1a",
   "metadata": {
    "tags": []
   },
   "outputs": [
    {
     "name": "stdout",
     "output_type": "stream",
     "text": [
      "10과 20의 곱은 200입니다.\n"
     ]
    }
   ],
   "source": [
    "def print_sub(a, b):\n",
    "    print('{}과 {}의 곱은 {}입니다.'.format(a, b, a * b))\n",
    "print_sub(10, 20)"
   ]
  },
  {
   "cell_type": "markdown",
   "id": "7a87193f-5b17-462f-a32c-af03bff83c53",
   "metadata": {},
   "source": [
    "### LAB 4-6: 함수의 사용"
   ]
  },
  {
   "cell_type": "markdown",
   "id": "1cdacc27-9701-43de-a88f-cf5416ff6ed6",
   "metadata": {
    "tags": []
   },
   "source": [
    "#### 1. 2차 방정식 근 계산"
   ]
  },
  {
   "cell_type": "code",
   "execution_count": 5,
   "id": "4c50a4b7-573c-420f-8846-164e10f777da",
   "metadata": {
    "tags": []
   },
   "outputs": [
    {
     "name": "stdout",
     "output_type": "stream",
     "text": [
      "해는 3.0 또는 -7.0\n",
      "해는 4.0 또는 2.0\n"
     ]
    }
   ],
   "source": [
    "def print_root(a, b, c):\n",
    "    r1 = (-b + (b ** 2 - 4 * a * c) ** 0.5) / (2 * a)\n",
    "    r2 = (-b - (b ** 2 - 4 * a * c) ** 0.5) / (2 * a)\n",
    "    print('해는', r1, '또는', r2)\n",
    "\n",
    "# (1)\n",
    "print_root(1, 4, -21)\n",
    "# (2)\n",
    "print_root(1, -6, 8)"
   ]
  },
  {
   "cell_type": "markdown",
   "id": "efd60871-9e52-4a63-9728-9f13d916cb59",
   "metadata": {
    "tags": []
   },
   "source": [
    "#### 2. 삼각형 면적 계산"
   ]
  },
  {
   "cell_type": "code",
   "execution_count": 7,
   "id": "e9a20123-6716-4f47-ac98-615b7264e685",
   "metadata": {
    "tags": []
   },
   "outputs": [
    {
     "name": "stdout",
     "output_type": "stream",
     "text": [
      "밑변 10, 높이 20인 삼각의 면적은 : 100\n"
     ]
    }
   ],
   "source": [
    "def print_area(width, height):\n",
    "    print(\n",
    "        '밑변 {}, 높이 {}인 삼각의 면적은 : {}'.format(\n",
    "            width,\n",
    "            height,\n",
    "            int(width * height * 1/2)\n",
    "        )\n",
    "    )\n",
    "print_area(10, 20)"
   ]
  },
  {
   "cell_type": "markdown",
   "id": "9c601c20-b595-433c-a14a-c1c5a1861df7",
   "metadata": {
    "tags": []
   },
   "source": [
    "### LAB 4-7: 원의 면적과 둘레를 반환하는 함수"
   ]
  },
  {
   "cell_type": "markdown",
   "id": "668dd97d-eed7-4912-ad38-6cf46390f216",
   "metadata": {
    "tags": []
   },
   "source": [
    "#### 1. 원의 면적과 둘레를 반환하는 함수"
   ]
  },
  {
   "cell_type": "code",
   "execution_count": 9,
   "id": "57e60197-757e-431c-87de-270815504b02",
   "metadata": {
    "tags": []
   },
   "outputs": [
    {
     "name": "stdout",
     "output_type": "stream",
     "text": [
      "반지름 10인 원의 면은 314.0, 원의 둘레는 62.8\n"
     ]
    }
   ],
   "source": [
    "def circle_area_circum(radius):\n",
    "    pi = 3.14\n",
    "    area = radius ** 2 * pi\n",
    "    circum = radius * 2 * pi\n",
    "    return area, circum\n",
    "radius = 10\n",
    "area, circum = circle_area_circum(radius)\n",
    "print('반지름 {}인 원의 면은 {:.1f}, 원의 둘레는 {:.1f}'.format(\n",
    "    radius,\n",
    "    area,\n",
    "    circum\n",
    "))"
   ]
  },
  {
   "cell_type": "markdown",
   "id": "0140a569-a463-41c3-ab5a-dd16dcb4aa36",
   "metadata": {},
   "source": [
    "### LAB 4-8: 다수의 결과를 반환하는 함수 만들기"
   ]
  },
  {
   "cell_type": "markdown",
   "id": "1a427504-c2e3-40b0-b0fb-b94a42d7bed4",
   "metadata": {},
   "source": [
    "#### 1. n의 배수 m개를 반환하는 multiplies 함수 구현"
   ]
  },
  {
   "cell_type": "code",
   "execution_count": 10,
   "id": "553306ff-0e5f-4701-bfbe-98d1a04caad4",
   "metadata": {
    "tags": []
   },
   "outputs": [
    {
     "name": "stdout",
     "output_type": "stream",
     "text": [
      "3 6 9 12\n",
      "2 4 6 8 10\n"
     ]
    }
   ],
   "source": [
    "def multiplies(m, n):\n",
    "    result = []\n",
    "    for i in range(1, n + 1):\n",
    "        result.append(m * i)\n",
    "    return tuple(result)\n",
    "r1, r2, r3, r4 = multiplies(3, 4)\n",
    "print(r1, r2, r3, r4)\n",
    "r1, r2, r3, r4, r5 = multiplies(2, 5)\n",
    "print(r1, r2, r3, r4, r5)"
   ]
  },
  {
   "cell_type": "markdown",
   "id": "dc4d277d-1482-4747-9519-8040a8760b40",
   "metadata": {},
   "source": [
    "### LAB 4-9: 키워드 인자"
   ]
  },
  {
   "cell_type": "markdown",
   "id": "500cfb66-406f-469c-8595-282d3a8043c1",
   "metadata": {
    "tags": []
   },
   "source": [
    "#### 1."
   ]
  },
  {
   "cell_type": "code",
   "execution_count": 12,
   "id": "7759eb55-0dce-42c8-994c-4cf65fca8261",
   "metadata": {
    "tags": []
   },
   "outputs": [
    {
     "name": "stdout",
     "output_type": "stream",
     "text": [
      "Dr. Gildong Hong\n",
      "Gildong Hong Dr.\n"
     ]
    }
   ],
   "source": [
    "def print_name(honorifics, first_name, last_name):\n",
    "    '''키워드 인자를 이용한 출력용 프로그램'''\n",
    "    print(honorifics, first_name, last_name)\n",
    "\n",
    "# a)\n",
    "print_name(first_name='Gildong', last_name='Hong', honorifics='Dr.')\n",
    "\n",
    "# b)\n",
    "print_name('Gildong', 'Hong', 'Dr.')"
   ]
  },
  {
   "cell_type": "markdown",
   "id": "bdd813a2-42ed-47db-9a70-10b9e4c3aa33",
   "metadata": {
    "tags": []
   },
   "source": [
    "### LAB 4-10: 가변 인자의 활용"
   ]
  },
  {
   "cell_type": "markdown",
   "id": "04abd686-a454-4f26-850d-86e9cff1a6f0",
   "metadata": {},
   "source": [
    "#### 1."
   ]
  },
  {
   "cell_type": "code",
   "execution_count": 14,
   "id": "f8b23cdc-ade1-46cd-b858-9af635e90575",
   "metadata": {
    "tags": []
   },
   "outputs": [
    {
     "name": "stdout",
     "output_type": "stream",
     "text": [
      "3 개의 인자 (10, 20, 30)\n",
      "합계 : 60 , 평균 : 20.0\n",
      "5 개의 인자 (10, 20, 30, 40, 50)\n",
      "합계 : 150 , 평균 : 30.0\n"
     ]
    }
   ],
   "source": [
    "def sum_nums(*numbers):\n",
    "    print(\n",
    "        '{} 개의 인자 {}'.format(\n",
    "            len(numbers),\n",
    "            numbers,\n",
    "        )\n",
    "    )\n",
    "    print(\n",
    "        '합계 : {} , 평균 : {}'.format(\n",
    "            sum(numbers),\n",
    "            sum(numbers) / len(numbers)\n",
    "        )\n",
    "    )\n",
    "sum_nums(10, 20, 30)\n",
    "sum_nums(10, 20, 30, 40, 50)"
   ]
  },
  {
   "cell_type": "markdown",
   "id": "4b48290f-6649-4535-89af-2c7a0bd806ff",
   "metadata": {},
   "source": [
    "#### 2."
   ]
  },
  {
   "cell_type": "code",
   "execution_count": 15,
   "id": "7a167458-394f-4f62-9aea-912045c08c6a",
   "metadata": {
    "tags": []
   },
   "outputs": [
    {
     "name": "stdout",
     "output_type": "stream",
     "text": [
      "최솟값은 10\n"
     ]
    }
   ],
   "source": [
    "def min_nums(*numbers):\n",
    "    result = numbers[0]\n",
    "    for number in numbers:\n",
    "        if result > number:\n",
    "            result = number\n",
    "    print('최솟값은', result)\n",
    "\n",
    "min_nums(20, 40, 50, 10)"
   ]
  },
  {
   "cell_type": "markdown",
   "id": "01ccc27e-f7e8-4a8c-bec0-26d3d0f56564",
   "metadata": {},
   "source": [
    "## 4주차 02 함수_실습문제"
   ]
  },
  {
   "cell_type": "markdown",
   "id": "df67b810-8040-4745-bbfe-37122c285712",
   "metadata": {
    "tags": []
   },
   "source": [
    "### 실습_문제 1"
   ]
  },
  {
   "cell_type": "code",
   "execution_count": 1,
   "id": "6f471cfe-200a-4531-9d7f-b48dbd4ac926",
   "metadata": {
    "tags": []
   },
   "outputs": [
    {
     "name": "stdout",
     "output_type": "stream",
     "text": [
      "e-비즈니스학과 010-8468-0551 h5k@ajou.ac.kr\n"
     ]
    }
   ],
   "source": [
    "def print_my_address():\n",
    "    print(\"e-비즈니스학과\", \"010-8468-0551\", \"h5k@ajou.ac.kr\")\n",
    "\n",
    "\n",
    "print_my_address()"
   ]
  },
  {
   "cell_type": "markdown",
   "id": "815e7358-6af0-4db4-94cd-7f4330595eb8",
   "metadata": {},
   "source": [
    "### 실습_문제 2"
   ]
  },
  {
   "cell_type": "code",
   "execution_count": 2,
   "id": "43c52ee4-c598-49a8-bbc7-d37ee259f40b",
   "metadata": {
    "tags": []
   },
   "outputs": [
    {
     "name": "stdout",
     "output_type": "stream",
     "text": [
      "1 제곱: 1, 2 제곱: 4, 3 제곱: 9\n"
     ]
    }
   ],
   "source": [
    "a, b, c = 1, 2, 3\n",
    "\n",
    "\n",
    "def get_square(x, y, z):\n",
    "    return [x**2, y**2, z**2]\n",
    "\n",
    "\n",
    "a_sq, b_sq, c_sq = get_square(a, b, c)\n",
    "print(\"{} 제곱: {}, {} 제곱: {}, {} 제곱: {}\".format(a, a_sq, b, b_sq, c, c_sq))\n"
   ]
  },
  {
   "cell_type": "markdown",
   "id": "eed0e2a6-66c5-4c66-b9a6-57b50aa0aa7a",
   "metadata": {},
   "source": [
    "### 실습_문제 3"
   ]
  },
  {
   "cell_type": "code",
   "execution_count": 3,
   "id": "48c05a15-5c54-4379-896f-939871d23f1e",
   "metadata": {
    "tags": []
   },
   "outputs": [
    {
     "name": "stdin",
     "output_type": "stream",
     "text": [
      "시급을 입력하시오: 30\n",
      "근무 시간을 입력하시오: 11150\n"
     ]
    },
    {
     "name": "stdout",
     "output_type": "stream",
     "text": [
      "501300.0\n"
     ]
    }
   ],
   "source": [
    "def weeklyPay(rate, hour):\n",
    "    if hour > 30:\n",
    "        return (30 * rate) + ((hour - 30) * rate * 1.5)\n",
    "    return rate * hour\n",
    "\n",
    "\n",
    "myPayByHour = int(input(\"시급을 입력하시오:\"))\n",
    "myHour = int(input(\"근무 시간을 입력하시오:\"))\n",
    "print(weeklyPay(myPayByHour, myHour))\n"
   ]
  },
  {
   "cell_type": "markdown",
   "id": "f530105d-3b36-4bdf-b5d3-3546d85e0952",
   "metadata": {},
   "source": [
    "### 실습_문제 4"
   ]
  },
  {
   "cell_type": "code",
   "execution_count": 33,
   "id": "57e1915c-3088-40f1-a45e-4fe272097c89",
   "metadata": {
    "tags": []
   },
   "outputs": [
    {
     "name": "stdin",
     "output_type": "stream",
     "text": [
      "최댓값을 원하면 max, 최솟값을 원하면 min을 입력하시오:  hi\n"
     ]
    },
    {
     "name": "stdout",
     "output_type": "stream",
     "text": [
      "[24, 12, 65, 7, 95]\n",
      "illegal method\n"
     ]
    },
    {
     "name": "stdin",
     "output_type": "stream",
     "text": [
      "최댓값을 원하면 max, 최솟값을 원하면 min을 입력하시오:  max\n"
     ]
    },
    {
     "name": "stdout",
     "output_type": "stream",
     "text": [
      "95\n"
     ]
    }
   ],
   "source": [
    "def getMinMax(numbers, method='max'):\n",
    "    print(numbers)\n",
    "    while method not in [\"max\", \"min\"]:\n",
    "        if method == \"q\":\n",
    "            return\n",
    "        print(\"illegal method\")\n",
    "        method = input(\"최댓값을 원하면 max, 최솟값을 원하면 min을 입력하시오: \")\n",
    "    numbers = sorted(numbers)\n",
    "    return numbers.pop() if method == 'max' else numbers[0]\n",
    "\n",
    "\n",
    "print(getMinMax([24, 12, 65, 7, 95], input(\"최댓값을 원하면 max, 최솟값을 원하면 min을 입력하시오: \")))"
   ]
  },
  {
   "cell_type": "markdown",
   "id": "54398aa0-b8d1-4065-be94-c6ef0e0fc9e1",
   "metadata": {},
   "source": [
    "### 실습_문제 5"
   ]
  },
  {
   "cell_type": "code",
   "execution_count": 17,
   "id": "99a79e53-e9e2-41cc-b73a-0508e79dc679",
   "metadata": {
    "tags": []
   },
   "outputs": [
    {
     "name": "stdin",
     "output_type": "stream",
     "text": [
      "몇 번째 항? 9\n"
     ]
    },
    {
     "name": "stdout",
     "output_type": "stream",
     "text": [
      "21\n"
     ]
    }
   ],
   "source": [
    "# 순환\n",
    "def fibonacci(n):\n",
    "    if n == 1:\n",
    "        return 0\n",
    "    elif n == 2:\n",
    "        return 1\n",
    "    else:\n",
    "        return fibonacci(n - 2) + fibonacci(n - 1)\n",
    "\n",
    "print(fibonacci(int(input('몇 번째 항?'))))\n"
   ]
  },
  {
   "cell_type": "code",
   "execution_count": 18,
   "id": "1eb93544-ad07-496b-9066-0702d04cca75",
   "metadata": {
    "tags": []
   },
   "outputs": [
    {
     "name": "stdin",
     "output_type": "stream",
     "text": [
      "몇 번째 항? 9\n"
     ]
    },
    {
     "name": "stdout",
     "output_type": "stream",
     "text": [
      "21\n"
     ]
    }
   ],
   "source": [
    "# for\n",
    "def fibonacci(n):\n",
    "    numbers = [0, 1]\n",
    "    for _ in range(n):\n",
    "        numbers.append(numbers[-2] + numbers[-1])\n",
    "    return numbers[n - 1]\n",
    "\n",
    "\n",
    "print(fibonacci(int(input('몇 번째 항?'))))\n"
   ]
  }
 ],
 "metadata": {
  "kernelspec": {
   "display_name": "Python 3 (ipykernel)",
   "language": "python",
   "name": "python3"
  },
  "language_info": {
   "codemirror_mode": {
    "name": "ipython",
    "version": 3
   },
   "file_extension": ".py",
   "mimetype": "text/x-python",
   "name": "python",
   "nbconvert_exporter": "python",
   "pygments_lexer": "ipython3",
   "version": "3.10.6"
  }
 },
 "nbformat": 4,
 "nbformat_minor": 5
}
