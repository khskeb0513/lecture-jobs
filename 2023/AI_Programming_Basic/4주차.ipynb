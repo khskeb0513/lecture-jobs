{
 "cells": [
  {
   "cell_type": "code",
   "execution_count": 1,
   "id": "6f471cfe-200a-4531-9d7f-b48dbd4ac926",
   "metadata": {
    "tags": []
   },
   "outputs": [
    {
     "name": "stdout",
     "output_type": "stream",
     "text": [
      "e-비즈니스학과 010-8468-0551 h5k@ajou.ac.kr\n"
     ]
    }
   ],
   "source": [
    "def print_my_address():\n",
    "    print('e-비즈니스학과', '010-8468-0551', 'h5k@ajou.ac.kr')\n",
    "print_my_address()"
   ]
  },
  {
   "cell_type": "code",
   "execution_count": 4,
   "id": "43c52ee4-c598-49a8-bbc7-d37ee259f40b",
   "metadata": {
    "tags": []
   },
   "outputs": [
    {
     "name": "stdout",
     "output_type": "stream",
     "text": [
      "1 제곱: 1, 2 제곱: 4, 3 제곱: 9\n"
     ]
    }
   ],
   "source": [
    "a, b, c = 1, 2, 3\n",
    "def get_square(x, y, z):\n",
    "    return [\n",
    "        x ** 2,\n",
    "        y ** 2,\n",
    "        z ** 2\n",
    "    ]\n",
    "a_sq, b_sq, c_sq = get_square(a, b, c)\n",
    "print(\n",
    "    '{} 제곱: {}, {} 제곱: {}, {} 제곱: {}'.format(\n",
    "        a, a_sq, b, b_sq, c, c_sq\n",
    "    )\n",
    ")"
   ]
  },
  {
   "cell_type": "code",
   "execution_count": 63,
   "id": "48c05a15-5c54-4379-896f-939871d23f1e",
   "metadata": {
    "tags": []
   },
   "outputs": [
    {
     "name": "stdin",
     "output_type": "stream",
     "text": [
      "시급을 입력하시오: 10000\n",
      "근무 시간을 입력하시오: 38\n"
     ]
    },
    {
     "name": "stdout",
     "output_type": "stream",
     "text": [
      "420000.0\n"
     ]
    }
   ],
   "source": [
    "def weeklyPay(rate, hour):\n",
    "    if (hour > 30):\n",
    "        return (30 * rate) + ((hour - 30) * rate * 1.5)\n",
    "    return rate * hour\n",
    "myPayByHour = int(input('시급을 입력하시오:'))\n",
    "myHour = int(input('근무 시간을 입력하시오:'))\n",
    "print(weeklyPay(myPayByHour, myHour))"
   ]
  },
  {
   "cell_type": "code",
   "execution_count": 68,
   "id": "57e1915c-3088-40f1-a45e-4fe272097c89",
   "metadata": {
    "tags": []
   },
   "outputs": [
    {
     "name": "stdout",
     "output_type": "stream",
     "text": [
      "[1, 2, 3]\n",
      "illegal method\n"
     ]
    },
    {
     "name": "stdin",
     "output_type": "stream",
     "text": [
      "최댓값을 원하면 max, 최솟값을 원하면 min을 입력하시오:  min\n"
     ]
    },
    {
     "name": "stdout",
     "output_type": "stream",
     "text": [
      "1\n"
     ]
    }
   ],
   "source": [
    "def getMinMax(numbers, method = 'max'):\n",
    "    print(numbers)\n",
    "    while (method not in ['max', 'min']):\n",
    "        if (method == 'q'):\n",
    "            return\n",
    "        print('illegal method')\n",
    "        method = input('최댓값을 원하면 max, 최솟값을 원하면 min을 입력하시오: ')\n",
    "    response = numbers.pop()\n",
    "    if (method == 'max'):\n",
    "        for i in numbers:\n",
    "            if i > response:\n",
    "                response = i\n",
    "        return response\n",
    "    elif (method == 'min'):\n",
    "        for i in numbers:\n",
    "            if i < response:\n",
    "                response = i\n",
    "        return response\n",
    "print(getMinMax([1, 2, 3]))"
   ]
  },
  {
   "cell_type": "code",
   "execution_count": 102,
   "id": "99a79e53-e9e2-41cc-b73a-0508e79dc679",
   "metadata": {
    "tags": []
   },
   "outputs": [
    {
     "data": {
      "text/plain": [
       "3"
      ]
     },
     "execution_count": 102,
     "metadata": {},
     "output_type": "execute_result"
    }
   ],
   "source": [
    "# 순환\n",
    "def fibonacci(n):\n",
    "    if n == 1:\n",
    "        return 0\n",
    "    elif n == 2:\n",
    "        return 1\n",
    "    else:\n",
    "        return fibonacci(n - 2) + fibonacci(n - 1)\n",
    "fibonacci(5)"
   ]
  },
  {
   "cell_type": "code",
   "execution_count": 100,
   "id": "1eb93544-ad07-496b-9066-0702d04cca75",
   "metadata": {
    "tags": []
   },
   "outputs": [
    {
     "data": {
      "text/plain": [
       "3"
      ]
     },
     "execution_count": 100,
     "metadata": {},
     "output_type": "execute_result"
    }
   ],
   "source": [
    "# for\n",
    "def fibonacci(n):\n",
    "    numbers = [0, 1]\n",
    "    for _ in range(n):\n",
    "        numbers.append(numbers[-2] + numbers[-1])\n",
    "    return numbers[n - 1]\n",
    "fibonacci(5)"
   ]
  }
 ],
 "metadata": {
  "kernelspec": {
   "display_name": "Python 3 (ipykernel)",
   "language": "python",
   "name": "python3"
  },
  "language_info": {
   "codemirror_mode": {
    "name": "ipython",
    "version": 3
   },
   "file_extension": ".py",
   "mimetype": "text/x-python",
   "name": "python",
   "nbconvert_exporter": "python",
   "pygments_lexer": "ipython3",
   "version": "3.10.6"
  }
 },
 "nbformat": 4,
 "nbformat_minor": 5
}
