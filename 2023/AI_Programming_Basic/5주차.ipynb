{
 "cells": [
  {
   "cell_type": "code",
   "execution_count": 2,
   "id": "1c5216b1-f258-4126-85a0-77c5d0b6de88",
   "metadata": {
    "tags": []
   },
   "outputs": [
    {
     "data": {
      "text/plain": [
       "['hi', 's']"
      ]
     },
     "execution_count": 2,
     "metadata": {},
     "output_type": "execute_result"
    }
   ],
   "source": [
    "'hi  s'.split('  ')"
   ]
  },
  {
   "cell_type": "code",
   "execution_count": 5,
   "id": "9fd9a3fc-c82e-43ab-a473-d4aba3154bf9",
   "metadata": {
    "tags": []
   },
   "outputs": [
    {
     "data": {
      "text/plain": [
       "[1, 2, 3]"
      ]
     },
     "execution_count": 5,
     "metadata": {},
     "output_type": "execute_result"
    }
   ],
   "source": [
    "list(map(int, ['1', '2', '3']))"
   ]
  },
  {
   "cell_type": "code",
   "execution_count": 10,
   "id": "dbb706d2-704f-4b2f-aa6f-44e577e3c06e",
   "metadata": {
    "tags": []
   },
   "outputs": [
    {
     "data": {
      "text/plain": [
       "[1, 2, 3]"
      ]
     },
     "execution_count": 10,
     "metadata": {},
     "output_type": "execute_result"
    }
   ],
   "source": [
    "[int(i) for i in ['1', '2', '3']]"
   ]
  },
  {
   "cell_type": "code",
   "execution_count": 15,
   "id": "e809f1b2-095c-495e-9171-2118ef97f777",
   "metadata": {
    "tags": []
   },
   "outputs": [
    {
     "name": "stdout",
     "output_type": "stream",
     "text": [
      "  2,    4,     8\n",
      "  4,   16,    64\n",
      "  6,   36,   216\n",
      "  8,   64,   512\n",
      " 10,  100,  1000\n",
      " 12,  144,  1728\n",
      " 14,  196,  2744\n"
     ]
    }
   ],
   "source": [
    "for i in range(2, 15, 2):\n",
    "    print('{0:3d}, {1:4d}, {2:5d}'.format(i, i ** 2, i ** 3))"
   ]
  },
  {
   "cell_type": "code",
   "execution_count": 16,
   "id": "026de79c-069b-4f06-993c-a7885d94a4de",
   "metadata": {
    "tags": []
   },
   "outputs": [
    {
     "data": {
      "text/plain": [
       "'안녕'"
      ]
     },
     "execution_count": 16,
     "metadata": {},
     "output_type": "execute_result"
    }
   ],
   "source": [
    "# '{$인덱스번호:$자릿수.$소수부칸$(f)실수 혹은 정수}'\n",
    "'{hello}'.format(hello = '안녕')"
   ]
  },
  {
   "cell_type": "code",
   "execution_count": 23,
   "id": "e6e4901c-7484-465f-8b33-cea5ebe8e3a1",
   "metadata": {
    "tags": []
   },
   "outputs": [
    {
     "data": {
      "text/plain": [
       "'3'"
      ]
     },
     "execution_count": 23,
     "metadata": {},
     "output_type": "execute_result"
    }
   ],
   "source": [
    "'123'[-1]"
   ]
  },
  {
   "cell_type": "code",
   "execution_count": 24,
   "id": "a8a8da7a-5f5e-404b-baf2-1d62791328e3",
   "metadata": {
    "tags": []
   },
   "outputs": [
    {
     "data": {
      "text/plain": [
       "['1', '2', '3']"
      ]
     },
     "execution_count": 24,
     "metadata": {},
     "output_type": "execute_result"
    }
   ],
   "source": [
    "sorted('321')"
   ]
  },
  {
   "cell_type": "code",
   "execution_count": 30,
   "id": "0b5ae900-71dd-4703-93c2-621586d8b8ab",
   "metadata": {
    "tags": []
   },
   "outputs": [
    {
     "name": "stdout",
     "output_type": "stream",
     "text": [
      "hi\n"
     ]
    },
    {
     "data": {
      "text/plain": [
       "65"
      ]
     },
     "execution_count": 30,
     "metadata": {},
     "output_type": "execute_result"
    }
   ],
   "source": [
    "# eval('1+2+3')\n",
    "eval('print(\\'hi\\')')\n",
    "abs(-1)\n",
    "chr(65)\n",
    "ord('A')"
   ]
  },
  {
   "cell_type": "code",
   "execution_count": 88,
   "id": "5f4da568-7702-424c-891c-616fa21a32f6",
   "metadata": {
    "tags": []
   },
   "outputs": [
    {
     "name": "stdin",
     "output_type": "stream",
     "text": [
      "쉼표로 구분된 정수를 임의의 개수 입력하시오:  56, 67,89 , 34\n"
     ]
    },
    {
     "name": "stdout",
     "output_type": "stream",
     "text": [
      "inputList: ['56', ' 67', '89 ', ' 34']\n",
      "입력된 정수의 리스트: [56, 67, 89, 34]\n",
      "정렬된 정수의 리스트: 34 56 67 89 "
     ]
    }
   ],
   "source": [
    "inputs = input('쉼표로 구분된 정수를 임의의 개수 입력하시오: ').split(',')\n",
    "\n",
    "print('inputList:', inputs)\n",
    "numbers = [int(i) for i in inputs]\n",
    "print('입력된 정수의 리스트:', numbers)\n",
    "print('정렬된 정수의 리스트:', end = ' ')\n",
    "for i in sorted(numbers):\n",
    "    print(i, end = ' ')"
   ]
  },
  {
   "cell_type": "code",
   "execution_count": 72,
   "id": "28c64eb5-15ee-4d00-8315-d1d2558a9404",
   "metadata": {
    "tags": []
   },
   "outputs": [
    {
     "name": "stdout",
     "output_type": "stream",
     "text": [
      "10에서  20까지의 정수의 합 :  165\n",
      "40에서 100까지의 정수의 합 : 4270\n"
     ]
    }
   ],
   "source": [
    "def sum_range(n1, n2):\n",
    "    print('{:2d}에서 {:3d}까지의 정수의 합 : {:4d}'.format(n1, n2, sum(range(n1, n2 + 1))))\n",
    "\n",
    "sum_range(10, 20)\n",
    "sum_range(40, 100)"
   ]
  },
  {
   "cell_type": "code",
   "execution_count": 76,
   "id": "6abf3b22-b466-462d-ab5c-453c67b13469",
   "metadata": {
    "tags": []
   },
   "outputs": [
    {
     "name": "stdout",
     "output_type": "stream",
     "text": [
      "2023-04-03 07:01:03.152425\n",
      "현재 시간은 2023년 4월 3일입니다.\n",
      "지금 태어난 아이의 주민등록번호 앞자리는 : 20230403\n"
     ]
    }
   ],
   "source": [
    "import datetime \n",
    "date = datetime.datetime.now()\n",
    "print(date)\n",
    "\n",
    "y, m, d = date.year, date.month, date.day\n",
    "print('현재 시간은', '{}년 {}월 {}일입니다.'.format(y, m, d))\n",
    "print('지금 태어난 아이의 주민등록번호 앞자리는 :', '{:04}{:02}{:02}'.format(y, m, d))"
   ]
  },
  {
   "cell_type": "code",
   "execution_count": 85,
   "id": "7682546a-db63-4f5a-a9b5-6ae76ed1fe6c",
   "metadata": {
    "tags": []
   },
   "outputs": [
    {
     "name": "stdin",
     "output_type": "stream",
     "text": [
      "주민등록번호 첫 6숫자 형식 입력:  505152\n"
     ]
    },
    {
     "name": "stdout",
     "output_type": "stream",
     "text": [
      "1950년 51월 52일\n"
     ]
    }
   ],
   "source": [
    "date = input('주민등록번호 첫 6숫자 형식 입력: ')\n",
    "year = int(date[0] + date[1])\n",
    "if year >= 50:\n",
    "    year += 1900\n",
    "else:\n",
    "    year += 2000\n",
    "\n",
    "month = int(date[2] + date[3])\n",
    "day = int(date[4] + date[5])\n",
    "print('{}년 {:02d}월 {:02d}일'.format(year, month, day))"
   ]
  }
 ],
 "metadata": {
  "kernelspec": {
   "display_name": "Python 3 (ipykernel)",
   "language": "python",
   "name": "python3"
  },
  "language_info": {
   "codemirror_mode": {
    "name": "ipython",
    "version": 3
   },
   "file_extension": ".py",
   "mimetype": "text/x-python",
   "name": "python",
   "nbconvert_exporter": "python",
   "pygments_lexer": "ipython3",
   "version": "3.10.6"
  }
 },
 "nbformat": 4,
 "nbformat_minor": 5
}
