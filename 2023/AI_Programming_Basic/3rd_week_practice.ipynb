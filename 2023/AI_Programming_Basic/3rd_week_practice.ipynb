{
 "cells": [
  {
   "cell_type": "markdown",
   "id": "4fd4b8a1",
   "metadata": {},
   "source": [
    "<center>\n",
    "    <h2>인공지능 프로그래밍언어 기초 3장 과제</h2>\n",
    "</center>"
   ]
  },
  {
   "cell_type": "markdown",
   "id": "e6b52f8f",
   "metadata": {},
   "source": [
    "<p style=\"text-align: right;font-size: 1.4em\">\n",
    "    학과: e-비즈니스학과<br>\n",
    "    학번: 202221498<br>\n",
    "    이름: 강 현승\n",
    "</p>"
   ]
  },
  {
   "cell_type": "markdown",
   "id": "3d885fc5",
   "metadata": {},
   "source": [
    "### LAB 3-1: if 문의 사용법"
   ]
  },
  {
   "cell_type": "markdown",
   "id": "1f6bbb34",
   "metadata": {},
   "source": [
    "#### 1. game_score 점수 (if 문 활용)"
   ]
  },
  {
   "cell_type": "code",
   "execution_count": 16,
   "id": "ee2a402e",
   "metadata": {},
   "outputs": [],
   "source": [
    "game_score = 800\n",
    "if (game_score >= 1000): \n",
    "    print('당신은 고수입니다.')"
   ]
  },
  {
   "cell_type": "code",
   "execution_count": 2,
   "id": "01fc2b7e",
   "metadata": {},
   "outputs": [
    {
     "name": "stdout",
     "output_type": "stream",
     "text": [
      "당신은 고수입니다.\n"
     ]
    }
   ],
   "source": [
    "game_score = 1300\n",
    "if (game_score >= 1000): \n",
    "    print('당신은 고수입니다.')"
   ]
  },
  {
   "cell_type": "markdown",
   "id": "2b463ede",
   "metadata": {},
   "source": [
    "#### 2. num_a, num_b 비교"
   ]
  },
  {
   "cell_type": "code",
   "execution_count": 3,
   "id": "f5b44fc3",
   "metadata": {},
   "outputs": [],
   "source": [
    "num_a, num_b = 100, 200\n",
    "if (num_a == num_b):\n",
    "    print('두 값이 일치합니다.')"
   ]
  },
  {
   "cell_type": "code",
   "execution_count": 4,
   "id": "835ae37d",
   "metadata": {},
   "outputs": [
    {
     "name": "stdout",
     "output_type": "stream",
     "text": [
      "두 값이 일치합니다.\n"
     ]
    }
   ],
   "source": [
    "num_b = 100\n",
    "if (num_a == num_b):\n",
    "    print('두 값이 일치합니다.')"
   ]
  },
  {
   "cell_type": "markdown",
   "id": "25b27152",
   "metadata": {},
   "source": [
    "### LAB 3-2: 변수와 if 조건식 사용하기"
   ]
  },
  {
   "cell_type": "markdown",
   "id": "ba120a1b",
   "metadata": {},
   "source": [
    "#### 1. 홀짝 확인"
   ]
  },
  {
   "cell_type": "code",
   "execution_count": 10,
   "id": "edf7f92e",
   "metadata": {},
   "outputs": [
    {
     "name": "stdout",
     "output_type": "stream",
     "text": [
      "정수를 입력하세요 : 50\n",
      "n = 50\n",
      "50 은(는) 짝수입니다.\n"
     ]
    }
   ],
   "source": [
    "n = int(input('정수를 입력하세요 : '))\n",
    "print('n = {}'.format(n))\n",
    "if (n % 2 == 0):\n",
    "    print(n, '은(는) 짝수입니다.')"
   ]
  },
  {
   "cell_type": "code",
   "execution_count": 11,
   "id": "d5b2c39d",
   "metadata": {},
   "outputs": [
    {
     "name": "stdout",
     "output_type": "stream",
     "text": [
      "정수를 입력하세요 : 75\n",
      "n = 75\n"
     ]
    }
   ],
   "source": [
    "n = int(input('정수를 입력하세요 : '))\n",
    "print('n = {}'.format(n))\n",
    "if (n % 2 == 0):\n",
    "    print(n, '은(는) 짝수입니다.')"
   ]
  },
  {
   "cell_type": "markdown",
   "id": "db463e9f",
   "metadata": {},
   "source": [
    "#### 2. 자연수 확인"
   ]
  },
  {
   "cell_type": "code",
   "execution_count": 17,
   "id": "cd33f7e6",
   "metadata": {},
   "outputs": [
    {
     "name": "stdout",
     "output_type": "stream",
     "text": [
      "정수를 입력하세요 : 50\n",
      "x = 50\n",
      "50 은(는) 자연수입니다.\n"
     ]
    }
   ],
   "source": [
    "x = int(input('정수를 입력하세요 : '))\n",
    "print('x = {}'.format(x))\n",
    "if (x > 0):\n",
    "    print(x, '은(는) 자연수입니다.')"
   ]
  },
  {
   "cell_type": "code",
   "execution_count": 18,
   "id": "01dc0003",
   "metadata": {},
   "outputs": [
    {
     "name": "stdout",
     "output_type": "stream",
     "text": [
      "정수를 입력하세요 : -10\n",
      "x = -10\n"
     ]
    }
   ],
   "source": [
    "n = int(input('정수를 입력하세요 : '))\n",
    "print('x = {}'.format(n))\n",
    "if (n > 0):\n",
    "    print(n, '은(는) 자연수입니다.')"
   ]
  },
  {
   "cell_type": "markdown",
   "id": "11793d0e",
   "metadata": {},
   "source": [
    "### LAB 3-3: if 조건문의 응용"
   ]
  },
  {
   "cell_type": "markdown",
   "id": "ab7c3b05",
   "metadata": {},
   "source": [
    "#### 1. game_score (if-else 문 활용)"
   ]
  },
  {
   "cell_type": "code",
   "execution_count": 21,
   "id": "f596dfd3",
   "metadata": {
    "scrolled": true
   },
   "outputs": [
    {
     "name": "stdout",
     "output_type": "stream",
     "text": [
      "게임점수를 입력하시오 : 800\n",
      "game_score = 800\n",
      "입문자입니다.\n"
     ]
    }
   ],
   "source": [
    "game_score = int(input('게임점수를 입력하시오 : '))\n",
    "print('game_score = {}'.format(game_score))\n",
    "if game_score >= 1000:\n",
    "    print('고수입니다.')\n",
    "else:\n",
    "    print('입문자입니다.')"
   ]
  },
  {
   "cell_type": "code",
   "execution_count": 23,
   "id": "d84d76d6",
   "metadata": {},
   "outputs": [
    {
     "name": "stdout",
     "output_type": "stream",
     "text": [
      "게임점수를 입력하시오 : 1300\n",
      "game_score = 1300\n",
      "고수입니다.\n"
     ]
    }
   ],
   "source": [
    "game_score = int(input('게임점수를 입력하시오 : '))\n",
    "print('game_score = {}'.format(game_score))\n",
    "if game_score >= 1000:\n",
    "    print('고수입니다.')\n",
    "else:\n",
    "    print('입문자입니다.')"
   ]
  },
  {
   "cell_type": "markdown",
   "id": "db7415ad",
   "metadata": {},
   "source": [
    "#### 2. 정수 비교"
   ]
  },
  {
   "cell_type": "code",
   "execution_count": 24,
   "id": "dea429da",
   "metadata": {},
   "outputs": [
    {
     "name": "stdout",
     "output_type": "stream",
     "text": [
      "한 정수를 입력하시오 : 100\n",
      "다른 정수를 입력하시오 : 200\n",
      "두 값이 일치하지 않습니다..\n"
     ]
    }
   ],
   "source": [
    "num_a = int(input('한 정수를 입력하시오 : '))\n",
    "num_b = int(input('다른 정수를 입력하시오 : '))\n",
    "if (num_a == num_b):\n",
    "    print('두 값이 일치합니다.')\n",
    "else:\n",
    "    print('두 값이 일치하지 않습니다..')"
   ]
  },
  {
   "cell_type": "code",
   "execution_count": 1,
   "id": "92039e02",
   "metadata": {},
   "outputs": [
    {
     "name": "stdout",
     "output_type": "stream",
     "text": [
      "한 정수를 입력하시오 : 300\n",
      "다른 정수를 입력하시오 : 300\n",
      "두 값이 일치합니다.\n"
     ]
    }
   ],
   "source": [
    "num_a = int(input('한 정수를 입력하시오 : '))\n",
    "num_b = int(input('다른 정수를 입력하시오 : '))\n",
    "if (num_a == num_b):\n",
    "    print('두 값이 일치합니다.')\n",
    "else:\n",
    "    print('두 값이 일치하지 않습니다..')"
   ]
  },
  {
   "cell_type": "markdown",
   "id": "ceefa176",
   "metadata": {},
   "source": [
    "#### 3. 호적 확인"
   ]
  },
  {
   "cell_type": "code",
   "execution_count": 4,
   "id": "11cc6c52",
   "metadata": {},
   "outputs": [
    {
     "name": "stdout",
     "output_type": "stream",
     "text": [
      "당신은 성인인가요(성인이면 1, 미성년이면 0): 0\n",
      "당신은 미성년자입니다.\n"
     ]
    }
   ],
   "source": [
    "# 1)\n",
    "\n",
    "if (int(input('당신은 성인인가요(성인이면 1, 미성년이면 0): ')) > 0):\n",
    "    if (int(input('결혼을 하셨나요?(기혼이면 1, 미혼이면 0): ')) > 0):\n",
    "        print('당신은 결혼한 성인입니다.')\n",
    "    else:\n",
    "        print('당신은 결혼하지 않은 성인입니다.')\n",
    "else:\n",
    "    print('당신은 미성년자입니다.')"
   ]
  },
  {
   "cell_type": "code",
   "execution_count": 5,
   "id": "4fc9d4ba",
   "metadata": {},
   "outputs": [
    {
     "name": "stdout",
     "output_type": "stream",
     "text": [
      "당신은 성인인가요(성인이면 1, 미성년이면 0): 1\n",
      "결혼을 하셨나요?(기혼이면 1, 미혼이면 0): 1\n",
      "당신은 결혼한 성인입니다.\n"
     ]
    }
   ],
   "source": [
    "# 2)\n",
    "\n",
    "if (int(input('당신은 성인인가요(성인이면 1, 미성년이면 0): ')) > 0):\n",
    "    if (int(input('결혼을 하셨나요?(기혼이면 1, 미혼이면 0): ')) > 0):\n",
    "        print('당신은 결혼한 성인입니다.')\n",
    "    else:\n",
    "        print('당신은 결혼하지 않은 성인입니다.')\n",
    "else:\n",
    "    print('당신은 미성년자입니다.')"
   ]
  },
  {
   "cell_type": "code",
   "execution_count": 6,
   "id": "a9709907",
   "metadata": {},
   "outputs": [
    {
     "name": "stdout",
     "output_type": "stream",
     "text": [
      "당신은 성인인가요(성인이면 1, 미성년이면 0): 1\n",
      "결혼을 하셨나요?(기혼이면 1, 미혼이면 0): 0\n",
      "당신은 결혼하지 않은 성인입니다.\n"
     ]
    }
   ],
   "source": [
    "if (int(input('당신은 성인인가요(성인이면 1, 미성년이면 0): ')) > 0):\n",
    "    if (int(input('결혼을 하셨나요?(기혼이면 1, 미혼이면 0): ')) > 0):\n",
    "        print('당신은 결혼한 성인입니다.')\n",
    "    else:\n",
    "        print('당신은 결혼하지 않은 성인입니다.')\n",
    "else:\n",
    "    print('당신은 미성년자입니다.')"
   ]
  },
  {
   "cell_type": "markdown",
   "id": "ac050004",
   "metadata": {},
   "source": [
    "### LAB 3-4: 복합 조건식의 이해"
   ]
  },
  {
   "cell_type": "markdown",
   "id": "08e37be3",
   "metadata": {},
   "source": [
    "#### 1. num이 1 ~ 10 범위 내에 있는가?"
   ]
  },
  {
   "cell_type": "code",
   "execution_count": 8,
   "id": "2179dcaa",
   "metadata": {
    "scrolled": true
   },
   "outputs": [
    {
     "name": "stdout",
     "output_type": "stream",
     "text": [
      "num = 2\n",
      "True\n"
     ]
    }
   ],
   "source": [
    "num = int(input('num = '))\n",
    "print(num > 1 and num < 10)"
   ]
  },
  {
   "cell_type": "markdown",
   "id": "a48edc05",
   "metadata": {},
   "source": [
    "#### 2. 청소년 여부 확인"
   ]
  },
  {
   "cell_type": "code",
   "execution_count": 7,
   "id": "87e780aa",
   "metadata": {},
   "outputs": [
    {
     "name": "stdout",
     "output_type": "stream",
     "text": [
      "age = 10\n"
     ]
    }
   ],
   "source": [
    "age = int(input('age = '))\n",
    "if (age > 10 and age < 19):\n",
    "    print('청소년입니다.')"
   ]
  },
  {
   "cell_type": "code",
   "execution_count": 22,
   "id": "460462cd",
   "metadata": {},
   "outputs": [
    {
     "name": "stdout",
     "output_type": "stream",
     "text": [
      "age = 12\n",
      "청소년입니다.\n"
     ]
    }
   ],
   "source": [
    "age = int(input('age = '))\n",
    "if (age > 10 and age < 19):\n",
    "    print('청소년입니다.')"
   ]
  },
  {
   "cell_type": "markdown",
   "id": "22d6fac6",
   "metadata": {},
   "source": [
    "### LAB 3-5: if-elif-else 문을 사용한 다중 조건식"
   ]
  },
  {
   "cell_type": "markdown",
   "id": "b007e773",
   "metadata": {},
   "source": [
    "#### 1. 자동차 속도"
   ]
  },
  {
   "cell_type": "code",
   "execution_count": 10,
   "id": "5a8112c1",
   "metadata": {},
   "outputs": [
    {
     "name": "stdout",
     "output_type": "stream",
     "text": [
      "자동차의 속도를 입력하세요(단위 : km/h ): 13\n",
      "저속\n"
     ]
    }
   ],
   "source": [
    "speed = int(input('자동차의 속도를 입력하세요(단위 : km/h ): '))\n",
    "if (speed < 60):\n",
    "    print('저속')\n",
    "elif (speed <100):\n",
    "    print('중속')\n",
    "else:\n",
    "    print('고속')"
   ]
  },
  {
   "cell_type": "code",
   "execution_count": 11,
   "id": "1ad4ed18",
   "metadata": {},
   "outputs": [
    {
     "name": "stdout",
     "output_type": "stream",
     "text": [
      "자동차의 속도를 입력하세요(단위 : km/h ): 130\n",
      "고속\n"
     ]
    }
   ],
   "source": [
    "speed = int(input('자동차의 속도를 입력하세요(단위 : km/h ): '))\n",
    "if (speed < 60):\n",
    "    print('저속')\n",
    "elif (speed <100):\n",
    "    print('중속')\n",
    "else:\n",
    "    print('고속')"
   ]
  },
  {
   "cell_type": "markdown",
   "id": "72e11b92",
   "metadata": {},
   "source": [
    "### LAB 3-7: range() 함수의 응용"
   ]
  },
  {
   "cell_type": "markdown",
   "id": "bd398230",
   "metadata": {},
   "source": [
    "#### 1. 자연수 리스트 만드시오."
   ]
  },
  {
   "cell_type": "code",
   "execution_count": 12,
   "id": "5e5c1f63",
   "metadata": {},
   "outputs": [],
   "source": [
    "naturalNumbers = list(range(1, 101))"
   ]
  },
  {
   "cell_type": "markdown",
   "id": "e98d9949",
   "metadata": {},
   "source": [
    "#### 2. 1 ~ 100 짝수 리스트 만드시오."
   ]
  },
  {
   "cell_type": "code",
   "execution_count": 24,
   "id": "a9d38f3a",
   "metadata": {
    "scrolled": true
   },
   "outputs": [
    {
     "name": "stdout",
     "output_type": "stream",
     "text": [
      "[2, 4, 6, 8, 10, 12, 14, 16, 18, 20, 22, 24, 26, 28, 30, 32, 34, 36, 38, 40, 42, 44, 46, 48, 50, 52, 54, 56, 58, 60, 62, 64, 66, 68, 70, 72, 74, 76, 78, 80, 82, 84, 86, 88, 90, 92, 94, 96, 98, 100]\n"
     ]
    }
   ],
   "source": [
    "jjakNumbers = list(range(2, 101, 2))\n",
    "print(jjakNumbers)"
   ]
  },
  {
   "cell_type": "markdown",
   "id": "62353aec",
   "metadata": {},
   "source": [
    "#### 3. 1 ~ 100 홀수 리스트 만드시오."
   ]
  },
  {
   "cell_type": "code",
   "execution_count": 25,
   "id": "438d1c00",
   "metadata": {
    "scrolled": true
   },
   "outputs": [
    {
     "name": "stdout",
     "output_type": "stream",
     "text": [
      "[1, 3, 5, 7, 9, 11, 13, 15, 17, 19, 21, 23, 25, 27, 29, 31, 33, 35, 37, 39, 41, 43, 45, 47, 49, 51, 53, 55, 57, 59, 61, 63, 65, 67, 69, 71, 73, 75, 77, 79, 81, 83, 85, 87, 89, 91, 93, 95, 97, 99]\n"
     ]
    }
   ],
   "source": [
    "holNumbers = list(range(1, 101, 2))\n",
    "print(holNumbers)"
   ]
  },
  {
   "cell_type": "markdown",
   "id": "772026f6",
   "metadata": {},
   "source": [
    "#### 4. -100 ~ 0 음수 리스트 만드시오."
   ]
  },
  {
   "cell_type": "code",
   "execution_count": 17,
   "id": "ef8e57ef",
   "metadata": {
    "scrolled": true
   },
   "outputs": [
    {
     "name": "stdout",
     "output_type": "stream",
     "text": [
      "[-99, -98, -97, -96, -95, -94, -93, -92, -91, -90, -89, -88, -87, -86, -85, -84, -83, -82, -81, -80, -79, -78, -77, -76, -75, -74, -73, -72, -71, -70, -69, -68, -67, -66, -65, -64, -63, -62, -61, -60, -59, -58, -57, -56, -55, -54, -53, -52, -51, -50, -49, -48, -47, -46, -45, -44, -43, -42, -41, -40, -39, -38, -37, -36, -35, -34, -33, -32, -31, -30, -29, -28, -27, -26, -25, -24, -23, -22, -21, -20, -19, -18, -17, -16, -15, -14, -13, -12, -11, -10, -9, -8, -7, -6, -5, -4, -3, -2, -1]\n"
     ]
    }
   ],
   "source": [
    "print(\n",
    "    list(range(-99, 0))\n",
    ")"
   ]
  },
  {
   "cell_type": "markdown",
   "id": "cf4740d5",
   "metadata": {},
   "source": [
    "### LAB 3-8: 누적 덧셈의 응용"
   ]
  },
  {
   "cell_type": "markdown",
   "id": "241136ce",
   "metadata": {},
   "source": [
    "#### 1. 1 ~ 100 정수의 합 구하시오."
   ]
  },
  {
   "cell_type": "code",
   "execution_count": 26,
   "id": "bd8490e9",
   "metadata": {
    "scrolled": true
   },
   "outputs": [
    {
     "name": "stdout",
     "output_type": "stream",
     "text": [
      "5050\n"
     ]
    }
   ],
   "source": [
    "jungSum = 0\n",
    "for i in range(1, 101):\n",
    "    jungSum += i\n",
    "print(jungSum)"
   ]
  },
  {
   "cell_type": "markdown",
   "id": "b489925c",
   "metadata": {},
   "source": [
    "#### 2. 1 ~ 100 짝수의 합 구하시오."
   ]
  },
  {
   "cell_type": "code",
   "execution_count": 27,
   "id": "42d02971",
   "metadata": {
    "scrolled": true
   },
   "outputs": [
    {
     "name": "stdout",
     "output_type": "stream",
     "text": [
      "2550\n"
     ]
    }
   ],
   "source": [
    "jjakSum = 0\n",
    "for i in range(2, 101, 2):\n",
    "    jjakSum += i\n",
    "print(jjakSum)"
   ]
  },
  {
   "cell_type": "markdown",
   "id": "ad1b6920",
   "metadata": {},
   "source": [
    "#### 3. 1 ~ 100 홀수의 합 구하시오."
   ]
  },
  {
   "cell_type": "code",
   "execution_count": 28,
   "id": "568e3920",
   "metadata": {},
   "outputs": [
    {
     "name": "stdout",
     "output_type": "stream",
     "text": [
      "2500\n"
     ]
    }
   ],
   "source": [
    "holSum = 0\n",
    "for i in range(1, 101, 2):\n",
    "    holSum += i\n",
    "print(holSum)"
   ]
  },
  {
   "cell_type": "markdown",
   "id": "76f5f999",
   "metadata": {},
   "source": [
    "### LAB 3-9: 패턴 출력 응용"
   ]
  },
  {
   "cell_type": "markdown",
   "id": "70315cfa",
   "metadata": {},
   "source": [
    "#### 1. 이중 for 루프를 사용하여 패턴 출력"
   ]
  },
  {
   "cell_type": "code",
   "execution_count": 29,
   "id": "348509b5",
   "metadata": {},
   "outputs": [
    {
     "name": "stdout",
     "output_type": "stream",
     "text": [
      "       #\n",
      "      #\n",
      "     #\n",
      "    #\n",
      "   #\n",
      "  #\n",
      " #\n"
     ]
    }
   ],
   "source": [
    "n = 7\n",
    "for i in range(n):\n",
    "    blankStr = ''\n",
    "    for _ in range(n - i):\n",
    "        blankStr = blankStr + ' '\n",
    "    print(blankStr + '#')"
   ]
  }
 ],
 "metadata": {
  "kernelspec": {
   "display_name": "Python 3 (ipykernel)",
   "language": "python",
   "name": "python3"
  },
  "language_info": {
   "codemirror_mode": {
    "name": "ipython",
    "version": 3
   },
   "file_extension": ".py",
   "mimetype": "text/x-python",
   "name": "python",
   "nbconvert_exporter": "python",
   "pygments_lexer": "ipython3",
   "version": "3.10.6"
  }
 },
 "nbformat": 4,
 "nbformat_minor": 5
}
