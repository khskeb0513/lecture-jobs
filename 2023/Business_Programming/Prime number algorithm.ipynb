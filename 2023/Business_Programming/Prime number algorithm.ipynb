{
 "cells": [
  {
   "cell_type": "markdown",
   "id": "mysterious-timeline",
   "metadata": {},
   "source": [
    "# 기본 알고리즘"
   ]
  },
  {
   "cell_type": "code",
   "execution_count": null,
   "id": "conscious-temple",
   "metadata": {},
   "outputs": [],
   "source": [
    "def primes_decorator(is_prime_func):\n",
    "    def wrapper(n):\n",
    "        primes = []\n",
    "        for i in range(2, n+1):\n",
    "            if is_prime_func(i):\n",
    "                primes.append(i)\n",
    "        return primes\n",
    "    return wrapper"
   ]
  },
  {
   "cell_type": "code",
   "execution_count": 36,
   "id": "confused-secret",
   "metadata": {
    "ExecuteTime": {
     "end_time": "2023-04-02T16:07:46.374487Z",
     "start_time": "2023-04-02T16:07:46.369592Z"
    }
   },
   "outputs": [],
   "source": [
    "@primes_decorator\n",
    "def isPrime_ori(n):\n",
    "    \"\"\"\n",
    "    기본 알고리즘 \n",
    "    \"\"\"\n",
    "    if n <= 1:\n",
    "        # 주어진 수가 1 이하인 경우\n",
    "        return False  # 소수가 아닙니다.\n",
    "    \n",
    "    if n == 2:\n",
    "        # 주어진 수가 2인 경우\n",
    "        return True  # 소수입니다.\n",
    "    \n",
    "    for i in range(2, n):\n",
    "        # 주어진 수가 2부터 n-1까지의 수로 나누어지는지 검사합니다.\n",
    "        # i에는 2부터 n-1까지의 수가 차례대로 대입됩니다.\n",
    "        if n % i == 0:\n",
    "            # 주어진 수가 2부터 n-1까지의 수 중 하나로 나누어지는 경우\n",
    "            return False  # 소수가 아닙니다.\n",
    "        \n",
    "    # 주어진 수가 2부터 n-1까지의 수로 나누어지지 않는 경우\n",
    "    return True  # 소수입니다.\n"
   ]
  },
  {
   "cell_type": "markdown",
   "id": "chronic-poison",
   "metadata": {},
   "source": [
    "# 개선 알고리즘 1"
   ]
  },
  {
   "cell_type": "code",
   "execution_count": 37,
   "id": "alike-average",
   "metadata": {
    "ExecuteTime": {
     "end_time": "2023-04-02T16:07:46.857055Z",
     "start_time": "2023-04-02T16:07:46.851785Z"
    }
   },
   "outputs": [],
   "source": [
    "@primes_decorator\n",
    "def isPrime_v1(n):\n",
    "    \"\"\"\n",
    "    개선 알고리즘 1\n",
    "    \"\"\"\n",
    "    if n <= 1:\n",
    "        # 주어진 수가 1 이하인 경우\n",
    "        return False  # 소수가 아닙니다.\n",
    "    \n",
    "    if n == 2:\n",
    "        # 주어진 수가 2인 경우\n",
    "        return True  # 소수입니다.\n",
    "    \n",
    "    for i in range(2, n):\n",
    "        # 주어진 수를 2부터 그 수의 제곱근까지 나누어 떨어지지 않으면 해당 수는 소수입니다.\n",
    "        if i >= int(n ** (0.5)) + 1:\n",
    "            return True\n",
    "        \n",
    "        if n % i == 0:\n",
    "            # 주어진 수가 2부터 n-1까지의 수 중 하나로 나누어지는 경우\n",
    "            return False  # 소수가 아닙니다.\n",
    "        \n",
    "    # 주어진 수가 2부터 n-1까지의 수로 나누어지지 않는 경우\n",
    "    return True  # 소수입니다.\n"
   ]
  },
  {
   "cell_type": "markdown",
   "id": "fitting-estonia",
   "metadata": {},
   "source": [
    "# 개선 알고리즘 2"
   ]
  },
  {
   "cell_type": "code",
   "execution_count": 38,
   "id": "valued-soundtrack",
   "metadata": {
    "ExecuteTime": {
     "end_time": "2023-04-02T16:07:47.279436Z",
     "start_time": "2023-04-02T16:07:47.273614Z"
    }
   },
   "outputs": [],
   "source": [
    "@primes_decorator\n",
    "def isPrime_v2(n):\n",
    "    \"\"\"\n",
    "    개선 알고리즘 2\n",
    "    \"\"\"\n",
    "    if n == 2 or n == 3:\n",
    "        # 주어진 수가 2 또는 3인 경우\n",
    "        return True  # 소수입니다.\n",
    "    \n",
    "    if n <= 1 or n % 2 == 0 or n % 3 == 0:\n",
    "        # 주어진 수가 1 이하이거나 2 또는 3의 배수인 경우\n",
    "        return False  # 소수가 아닙니다.\n",
    "    \n",
    "    # Prime Number를 체크하기 위한 숫자 범위를 조정합니다.\n",
    "    # 단, 2의 배수는 선택하지 않습니다.\n",
    "    for i in range(5, n, 2):\n",
    "        if i >= int(n ** (0.5)) + 1:\n",
    "            return True\n",
    "        \n",
    "        if n % i == 0:\n",
    "            # 주어진 수가 범위 내의 수 중 하나로 나누어지는 경우\n",
    "            return False  # 소수가 아닙니다.\n",
    "        \n",
    "    # 주어진 수가 범위 내의 수로 나누어지지 않는 경우\n",
    "    return True  # 소수입니다."
   ]
  },
  {
   "cell_type": "markdown",
   "id": "negative-right",
   "metadata": {},
   "source": [
    "# 개선 알고리즘 3"
   ]
  },
  {
   "cell_type": "code",
   "execution_count": 39,
   "id": "occupied-biotechnology",
   "metadata": {
    "ExecuteTime": {
     "end_time": "2023-04-02T16:07:47.862495Z",
     "start_time": "2023-04-02T16:07:47.856427Z"
    }
   },
   "outputs": [],
   "source": [
    "@primes_decorator\n",
    "def isPrime_v3(n):\n",
    "    \"\"\"\n",
    "    개선 알고리즘 3\n",
    "    \"\"\"\n",
    "    if n == 2 or n == 3:\n",
    "        # 주어진 수가 2 또는 3인 경우\n",
    "        return True  # 소수입니다.\n",
    "    \n",
    "    if n <= 1 or n % 2 == 0 or n % 3 == 0:\n",
    "        # 주어진 수가 1 이하이거나 2 또는 3의 배수인 경우\n",
    "        return False  # 소수가 아닙니다.\n",
    "    \n",
    "    # Prime Number가 위치하는 숫자열만 체크하여 판단합니다.\n",
    "    for i in range(5, n, 6):\n",
    "        if i ** 2 > n:\n",
    "            # i**2가 주어진 수보다 큰 경우\n",
    "            # 주어진 수는 i보다 작은 수와 i보다 큰 수의 곱으로 나타낼 수 없으므로 소수입니다.\n",
    "            return True\n",
    "        \n",
    "        if n % i == 0 or n % (i + 2) == 0:\n",
    "            # 주어진 수가 i 또는 i+2로 나누어지는 경우\n",
    "            return False  # 소수가 아닙니다.\n",
    "        \n",
    "    # 주어진 수가 범위 내의 수로 나누어지지 않는 경우\n",
    "    return True  # 소수입니다.\n"
   ]
  },
  {
   "cell_type": "markdown",
   "id": "ancient-shopper",
   "metadata": {},
   "source": [
    "# 에라토스테네스의 체 알고리즘 1"
   ]
  },
  {
   "cell_type": "code",
   "execution_count": 40,
   "id": "lined-action",
   "metadata": {
    "ExecuteTime": {
     "end_time": "2023-04-02T16:07:48.410027Z",
     "start_time": "2023-04-02T16:07:48.402525Z"
    }
   },
   "outputs": [],
   "source": [
    "def eratos_v1(n):\n",
    "    \"\"\"\n",
    "    주어진 수까지의 소수를 찾아 리스트로 반환하는 함수\n",
    "    에라토스테네스의 체 알고리즘 1\n",
    "    \"\"\"\n",
    "    lst_numbers = []  # 숫자를 나열할 리스트\n",
    "    resultPrimes = []  # 최종 정리될 데이터\n",
    "    rng_num = range(2, n+1)  # 확인할 데이터의 범위\n",
    "    \n",
    "    if n <= 1:\n",
    "        # 입력받은 값이 1 이하인 경우 빈 리스트를 반환합니다.\n",
    "        return resultPrimes\n",
    "    else:\n",
    "        for num in rng_num:\n",
    "            # 숫자 리스트를 숫자로 채웁니다.\n",
    "            lst_numbers += [num]\n",
    "            \n",
    "        for num in rng_num:\n",
    "            # 리스트를 순회합니다.\n",
    "            if num**2 > n:\n",
    "                break\n",
    "                \n",
    "            if lst_numbers[num-2] == 0:\n",
    "                # 해당 위치의 숫자가 0이면 루프의 시작으로 돌아갑니다.\n",
    "                continue\n",
    "            \n",
    "            for idx, j in enumerate(rng_num[num-1:]):\n",
    "                # num부터 시작하는 범위를 지정하고, enumerate를 사용하여 index와 값을 갖고 루프를 돌립니다.\n",
    "                if (j % num == 0) and (j != num):\n",
    "                    # 주어진 수가 어떤 수로 나누어떨어지면서 주어진 수와 그 수가 같은 숫자가 아니라면 0으로 표시합니다.\n",
    "                    # 실제값과 리스트위치를 보정합니다.\n",
    "                    lst_numbers[idx+num-1] = 0\n",
    "                    \n",
    "        # 0으로 표시되지 않은 항목을 정리하여 반환합니다.\n",
    "        for k in lst_numbers:\n",
    "            if k != 0:\n",
    "                resultPrimes += [k]\n",
    "                \n",
    "        return resultPrimes\n"
   ]
  },
  {
   "cell_type": "markdown",
   "id": "double-nursing",
   "metadata": {},
   "source": [
    "# 에라토스테네스의 체 알고리즘 2"
   ]
  },
  {
   "cell_type": "code",
   "execution_count": 41,
   "id": "classified-climb",
   "metadata": {
    "ExecuteTime": {
     "end_time": "2023-04-02T16:07:48.814392Z",
     "start_time": "2023-04-02T16:07:48.807533Z"
    }
   },
   "outputs": [],
   "source": [
    "def eratos_v2(n):\n",
    "    \"\"\"\n",
    "    에라토스테네스의 체 알고리즘 2\n",
    "    \"\"\"\n",
    "    # Flag 리스트를 만듭니다. 0부터 n까지 n+1개 기본적으로 True값으로 생성하였습니다.\n",
    "    flgPrimes = [True] * (n + 1)\n",
    "    resultPrimes = []\n",
    "\n",
    "    for i_idx, i in enumerate(flgPrimes):\n",
    "        # 소수가 아닌 항목은 False로 변경합니다.\n",
    "        if i_idx <= 1:\n",
    "            flgPrimes[i_idx] = False\n",
    "            continue\n",
    "            \n",
    "        # 이미 소수가 아닌 것으로 판단되었을 경우 연산하지 않습니다.\n",
    "        if i == False:\n",
    "            continue\n",
    "            \n",
    "        # i_idx는 index이지만 사실상 해당 위치의 실제 값을 의미합니다.\n",
    "        for j in range(i_idx, n+1):\n",
    "            if (j % i_idx == 0) and (j != i_idx):\n",
    "                flgPrimes[j] = False\n",
    "                \n",
    "        if i_idx**2 > n:\n",
    "            break\n",
    "            \n",
    "    for k in range(0, n+1):\n",
    "        if flgPrimes[k]:\n",
    "            resultPrimes += [k]\n",
    "            \n",
    "    return resultPrimes\n"
   ]
  },
  {
   "cell_type": "markdown",
   "id": "olympic-truck",
   "metadata": {},
   "source": [
    "# 에라토스테네스의 체 알고리즘 3"
   ]
  },
  {
   "cell_type": "code",
   "execution_count": 42,
   "id": "chicken-latvia",
   "metadata": {
    "ExecuteTime": {
     "end_time": "2023-04-02T16:07:49.711619Z",
     "start_time": "2023-04-02T16:07:49.704772Z"
    }
   },
   "outputs": [],
   "source": [
    "from numpy import *\n",
    "\n",
    "def eratos_v3(n):\n",
    "    \"\"\"\n",
    "    에라토스테네스의 체 알고리즘 3\n",
    "    \"\"\"\n",
    "    # 짝수를 처음부터 제외시킴. 이로써 특정 수의 index는 (n-1)/2가 됨.\n",
    "    flgPrimes = arange(1, n+1, 2)\n",
    "    \n",
    "    for i in flgPrimes:\n",
    "        # 1 이하일 경우 통과\n",
    "        if i <= 1:\n",
    "            continue\n",
    "            \n",
    "        if i**2 > n:\n",
    "            break\n",
    "            \n",
    "        for j in range(i*3, n+1, i*2):\n",
    "            # Python 3에서 짝수로 나눈 값을 float 처리하므로 int 사용\n",
    "            if (flgPrimes[int((j-1)/2)] % i == 0):\n",
    "                flgPrimes[int((j-1)/2)] = 0\n",
    "                \n",
    "    # 제외된 유일한 짝수 소수를 추가해줍니다.\n",
    "    flgPrimes[0] = 2\n",
    "    \n",
    "    # 0이 아닌 리스트만 반환합니다.\n",
    "    return flgPrimes[flgPrimes != 0]\n"
   ]
  },
  {
   "cell_type": "markdown",
   "id": "motivated-princess",
   "metadata": {},
   "source": [
    "# 좀 더 업데이트 해볼까?"
   ]
  },
  {
   "cell_type": "code",
   "execution_count": 43,
   "id": "aboriginal-declaration",
   "metadata": {
    "ExecuteTime": {
     "end_time": "2023-04-02T16:07:51.069239Z",
     "start_time": "2023-04-02T16:07:51.063362Z"
    }
   },
   "outputs": [],
   "source": [
    "def eratos_v4(n):\n",
    "    \"\"\"\n",
    "    좀 더 업데이트한 방법\n",
    "    \"\"\"\n",
    "    # 2부터 n까지의 숫자가 소수인지 여부를 저장하는 리스트를 생성합니다.\n",
    "    primes = [True] * (n+1)\n",
    "    primes[0] = primes[1] = False\n",
    "    \n",
    "    # 에라토스테네스의 체 알고리즘을 적용합니다.\n",
    "    for i in range(2, int(n**0.5)+1):\n",
    "        if primes[i]:\n",
    "            for j in range(i*i, n+1, i):\n",
    "                primes[j] = False\n",
    "                \n",
    "    # 소수만 추출하여 반환합니다.\n",
    "    return [i for i in range(2, n+1) if primes[i]]\n"
   ]
  },
  {
   "cell_type": "code",
   "execution_count": 44,
   "id": "orange-exhibit",
   "metadata": {
    "ExecuteTime": {
     "end_time": "2023-04-02T16:08:00.285326Z",
     "start_time": "2023-04-02T16:07:59.603162Z"
    }
   },
   "outputs": [
    {
     "name": "stdout",
     "output_type": "stream",
     "text": [
      "isprime_ori execution time: 0.513623 seconds\n",
      "isprime_v1 execution time: 0.054569 seconds\n",
      "isprime_v2 execution time: 0.025558 seconds\n",
      "isprime_v3 execution time: 0.012373 seconds\n",
      "eratos_v1 execution time: 0.032828 seconds\n",
      "eratos_v2 execution time: 0.022951 seconds\n",
      "eratos_v3 execution time: 0.009518 seconds\n",
      "eratos_v4 execution time: 0.001625 seconds\n"
     ]
    }
   ],
   "source": [
    "import time\n",
    "\n",
    "n = 10000\n",
    "\n",
    "# Measure the execution time of each function\n",
    "start_time = time.time()\n",
    "\n",
    "isPrime_ori(n)\n",
    "print(f\"isprime_ori execution time: {time.time() - start_time:.6f} seconds\")\n",
    "\n",
    "start_time = time.time()\n",
    "isPrime_v1(n)\n",
    "print(f\"isprime_v1 execution time: {time.time() - start_time:.6f} seconds\")\n",
    "\n",
    "start_time = time.time()\n",
    "isPrime_v2(n)\n",
    "print(f\"isprime_v2 execution time: {time.time() - start_time:.6f} seconds\")\n",
    "\n",
    "start_time = time.time()\n",
    "isPrime_v3(n)\n",
    "print(f\"isprime_v3 execution time: {time.time() - start_time:.6f} seconds\")\n",
    "\n",
    "start_time = time.time()\n",
    "eratos_v1(n)\n",
    "print(f\"eratos_v1 execution time: {time.time() - start_time:.6f} seconds\")\n",
    "\n",
    "start_time = time.time()\n",
    "eratos_v2(n)\n",
    "print(f\"eratos_v2 execution time: {time.time() - start_time:.6f} seconds\")\n",
    "\n",
    "start_time = time.time()\n",
    "eratos_v3(n)\n",
    "print(f\"eratos_v3 execution time: {time.time() - start_time:.6f} seconds\")\n",
    "\n",
    "start_time = time.time()\n",
    "eratos_v4(n)\n",
    "print(f\"eratos_v4 execution time: {time.time() - start_time:.6f} seconds\")"
   ]
  },
  {
   "cell_type": "code",
   "execution_count": null,
   "id": "adolescent-haiti",
   "metadata": {},
   "outputs": [],
   "source": []
  }
 ],
 "metadata": {
  "kernelspec": {
   "display_name": "Python 3 (ipykernel)",
   "language": "python",
   "name": "python3"
  },
  "language_info": {
   "codemirror_mode": {
    "name": "ipython",
    "version": 3
   },
   "file_extension": ".py",
   "mimetype": "text/x-python",
   "name": "python",
   "nbconvert_exporter": "python",
   "pygments_lexer": "ipython3",
   "version": "3.10.6"
  },
  "toc": {
   "base_numbering": 1,
   "nav_menu": {},
   "number_sections": true,
   "sideBar": true,
   "skip_h1_title": false,
   "title_cell": "Table of Contents",
   "title_sidebar": "Contents",
   "toc_cell": false,
   "toc_position": {},
   "toc_section_display": true,
   "toc_window_display": false
  }
 },
 "nbformat": 4,
 "nbformat_minor": 5
}
