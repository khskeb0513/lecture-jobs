{
 "cells": [
  {
   "cell_type": "markdown",
   "id": "39377845",
   "metadata": {},
   "source": [
    "# PR1_202221498"
   ]
  },
  {
   "cell_type": "markdown",
   "id": "87649cf3",
   "metadata": {},
   "source": [
    "> 아주대학교 e-비즈니스학과 202221498 강 현승"
   ]
  },
  {
   "cell_type": "markdown",
   "id": "ac579614",
   "metadata": {},
   "source": [
    "## 1. Practice 01"
   ]
  },
  {
   "cell_type": "markdown",
   "id": "c26d0598",
   "metadata": {},
   "source": [
    "### 1.1. 문제 1"
   ]
  },
  {
   "cell_type": "markdown",
   "id": "2794fd3a",
   "metadata": {},
   "source": [
    "#### 1.1.1. 문제 1-1"
   ]
  },
  {
   "cell_type": "code",
   "execution_count": 87,
   "id": "8561eae3",
   "metadata": {},
   "outputs": [],
   "source": [
    "book_1 = {\n",
    "    'title': '원프맨',\n",
    "    'issue': 2019,\n",
    "    'author': '김경영',\n",
    "    'publisher': 'BP출판사'\n",
    "}\n",
    "book_2 = {\n",
    "    'title': '에비슈의 프로그래밍 소풍',\n",
    "    'issue': 2019,\n",
    "    'author': '민디어',\n",
    "    'publisher': 'BP출판사'\n",
    "}\n",
    "book_3 = {\n",
    "    'title': '랩실온난화 대책',\n",
    "    'issue': 2018,\n",
    "    'author': 'BizLee',\n",
    "    'publisher': 'GreenPeace'\n",
    "}"
   ]
  },
  {
   "cell_type": "markdown",
   "id": "4b05370e",
   "metadata": {},
   "source": [
    "#### 1.1.2. 문제 1-2"
   ]
  },
  {
   "cell_type": "code",
   "execution_count": 88,
   "id": "e8980d2c",
   "metadata": {},
   "outputs": [],
   "source": [
    "books = [\n",
    "    {\n",
    "        \"title\": \"원프맨\", \n",
    "        \"issue\": 2019,\n",
    "        \"author\": \"김경영\", \n",
    "        \"publisher\": \"BP출판사\"\n",
    "    }, {\n",
    "        \"title\": \"에비슈의 프로그래밍 소풍\",\n",
    "        \"issue\": 2019, \n",
    "        \"author\": \"민디어\",\n",
    "        \"publisher\": \"BP출판사\"\n",
    "    }, {\n",
    "        \"title\": \"랩실온난화 대책\",\n",
    "        \"issue\": 2018,\n",
    "        \"author\": \"BizLee\",\n",
    "        \"publisher\": \"GreenPeace\"\n",
    "    }\n",
    "]"
   ]
  },
  {
   "cell_type": "markdown",
   "id": "bdbb5642",
   "metadata": {},
   "source": [
    "#### 1.1.3. 문제 1-3"
   ]
  },
  {
   "cell_type": "code",
   "execution_count": 89,
   "id": "038dacf7",
   "metadata": {},
   "outputs": [
    {
     "name": "stdout",
     "output_type": "stream",
     "text": [
      "[{'title': '원프맨', 'issue': 2019, 'author': '김경영', 'publisher': 'BP출판사'}, {'title': '에비슈의 프로그래밍 소풍', 'issue': 2019, 'author': '민디어', 'publisher': 'BP출판사'}, {'title': '랩실온난화 대책', 'issue': 2018, 'author': 'BizLee', 'publisher': 'GreenPeace'}, {'title': '미리 캔버스 : 너도 디자인 할 수 있어!', 'issue': 2022, 'author': '강현승', 'publisher': 'e-비즈니스학과'}]\n"
     ]
    }
   ],
   "source": [
    "books_new = [\n",
    "    {\n",
    "        \"title\": \"미리 캔버스 : 너도 디자인 할 수 있어!\",\n",
    "        \"issue\": 2022,\n",
    "        \"author\": \"강현승\",\n",
    "        \"publisher\": \"e-비즈니스학과\"\n",
    "    }\n",
    "]\n",
    "\n",
    "books.extend(books_new)\n",
    "print(books)"
   ]
  },
  {
   "cell_type": "markdown",
   "id": "e3935b81",
   "metadata": {},
   "source": [
    "#### 1.1.4. 문제 1-4"
   ]
  },
  {
   "cell_type": "markdown",
   "id": "a90de059",
   "metadata": {},
   "source": [
    "#### 1.1.4. 문제 1-4"
   ]
  },
  {
   "cell_type": "code",
   "execution_count": 90,
   "id": "8d9571c1",
   "metadata": {},
   "outputs": [
    {
     "name": "stdout",
     "output_type": "stream",
     "text": [
      "[{'title': '랩실온난화 대책', 'issue': 2018, 'author': 'BizLee', 'publisher': 'GreenPeace'}, {'title': '미리 캔버스 : 너도 디자인 할 수 있어!', 'issue': 2022, 'author': '강현승', 'publisher': 'e-비즈니스학과'}]\n"
     ]
    }
   ],
   "source": [
    "print(books[-2:])"
   ]
  },
  {
   "cell_type": "markdown",
   "id": "be22bd61",
   "metadata": {},
   "source": [
    "#### 1.1.4. 문제 1-4"
   ]
  },
  {
   "cell_type": "markdown",
   "id": "be5ed2a7",
   "metadata": {},
   "source": [
    "#### 1.1.5. 문제 1-5"
   ]
  },
  {
   "cell_type": "code",
   "execution_count": 91,
   "id": "2e4aa5de",
   "metadata": {},
   "outputs": [
    {
     "name": "stdout",
     "output_type": "stream",
     "text": [
      "[{'title': '원프맨', 'issue': 2019, 'author': '김경영', 'publisher': 'BP출판사'}, {'title': '에비슈의 프로그래밍 소풍', 'issue': 2019, 'author': '민디어', 'publisher': 'BP출판사'}, {'title': '랩실온난화 대책', 'issue': 2018, 'author': 'Biz Lee', 'publisher': 'GreenPeace'}, {'title': '미리 캔버스 : 너도 디자인 할 수 있어!', 'issue': 2022, 'author': '강현승', 'publisher': 'e-비즈니스학과'}]\n"
     ]
    }
   ],
   "source": [
    "books[-2].update({\n",
    "    'author': 'Biz Lee'\n",
    "})\n",
    "\n",
    "print(books)"
   ]
  },
  {
   "cell_type": "markdown",
   "id": "a983aa55",
   "metadata": {},
   "source": [
    "### 1.2. 문제 2"
   ]
  },
  {
   "cell_type": "markdown",
   "id": "7e69666b",
   "metadata": {},
   "source": [
    "#### 1.2.1. 문제 2-1"
   ]
  },
  {
   "cell_type": "code",
   "execution_count": 92,
   "id": "09635e7d",
   "metadata": {},
   "outputs": [],
   "source": [
    "orders = []\n",
    "\n",
    "orders.insert(0, ['경영세트', '금융세트', '정보세트', '인문세트', 102]) # 커플\n",
    "orders.insert(0, ['경영버거', '정보버거', '콜라', '사이다', 103]) # 타노스\n",
    "orders.insert(0, ['이비즈크림', 104]) # 그루투\n",
    "orders.insert(0, ['금융버거', '미뎌세트', '이비즈크림', 105]) # 에비추"
   ]
  },
  {
   "cell_type": "markdown",
   "id": "9b6218ae",
   "metadata": {},
   "source": [
    "#### 1.2.2. 문제 2-2"
   ]
  },
  {
   "cell_type": "code",
   "execution_count": 93,
   "id": "fed29709",
   "metadata": {},
   "outputs": [
    {
     "name": "stdout",
     "output_type": "stream",
     "text": [
      "주문번호 102 음식이 나왔습니다.\n",
      "주문번호 103 음식이 나왔습니다.\n",
      "주문번호 104 음식이 나왔습니다.\n"
     ]
    }
   ],
   "source": [
    "orders = []\n",
    "\n",
    "orders.insert(0, ['경영세트', '금융세트', '정보세트', '인문세트', 102]) # 커플\n",
    "orders.insert(0, ['경영버거', '정보버거', '콜라', '사이다', 103]) # 타노스\n",
    "# 커플 삭제\n",
    "print('주문번호', 102, '음식이 나왔습니다.')\n",
    "del orders[-1]\n",
    "orders.insert(0, ['이비즈크림', 104]) # 그루투\n",
    "# 타노스 삭제\n",
    "print('주문번호', 103, '음식이 나왔습니다.')\n",
    "del orders[-1]\n",
    "# 그르투 삭제\n",
    "print('주문번호', 104, '음식이 나왔습니다.')\n",
    "del orders[-1]"
   ]
  },
  {
   "cell_type": "markdown",
   "id": "9352ddda",
   "metadata": {},
   "source": [
    "#### 1.2.3. 문제 2-3"
   ]
  },
  {
   "cell_type": "code",
   "execution_count": 94,
   "id": "485f7ae7",
   "metadata": {},
   "outputs": [
    {
     "name": "stdout",
     "output_type": "stream",
     "text": [
      "현재 준비중인 주문은 [금융버거, 미뎌세트, 이비즈크림] 입니다.\n"
     ]
    }
   ],
   "source": [
    "orders = []\n",
    "\n",
    "orders.insert(0, ['금융버거', '미뎌세트', '이비즈크림', 105]) # 에비추\n",
    "print(\n",
    "    '현재 준비중인 주문은',\n",
    "#     join 을 써야 했다 ', '.join...\n",
    "    str(orders[-1][0:len(orders[-1]) - 1]).replace('\\'', ''),\n",
    "    '입니다.'\n",
    ")"
   ]
  },
  {
   "cell_type": "markdown",
   "id": "039890d3",
   "metadata": {},
   "source": [
    "#### 1.2.4. 문제 2-4"
   ]
  },
  {
   "cell_type": "code",
   "execution_count": 95,
   "id": "fa9f1d94",
   "metadata": {},
   "outputs": [],
   "source": [
    "orders[-1].remove('이비즈크림')"
   ]
  },
  {
   "cell_type": "markdown",
   "id": "982605c4",
   "metadata": {},
   "source": [
    "#### 1.2.5. 문제 2-5"
   ]
  },
  {
   "cell_type": "code",
   "execution_count": 96,
   "id": "cf6de9f5",
   "metadata": {},
   "outputs": [
    {
     "name": "stdout",
     "output_type": "stream",
     "text": [
      "n = 11\n"
     ]
    }
   ],
   "source": [
    "# (1)\n",
    "history_visitors = ['커플', '타노스', '그루트', '에비츄', 'Biz Lee', '그루트,금융공', '타노스', 'Biz Lee', '민디어', '박보안', '타노스', '최산공', '그루트,정인문', 'Biz Lee', '박보안', '에비츄', '그루트', '에비츄', '금융공']\n",
    "\n",
    "# (2)\n",
    "lotto_list = set(history_visitors)\n",
    "\n",
    "# (3)\n",
    "print('n =', len(lotto_list))"
   ]
  }
 ],
 "metadata": {
  "kernelspec": {
   "display_name": "Python 3 (ipykernel)",
   "language": "python",
   "name": "python3"
  },
  "language_info": {
   "codemirror_mode": {
    "name": "ipython",
    "version": 3
   },
   "file_extension": ".py",
   "mimetype": "text/x-python",
   "name": "python",
   "nbconvert_exporter": "python",
   "pygments_lexer": "ipython3",
   "version": "3.9.13"
  }
 },
 "nbformat": 4,
 "nbformat_minor": 5
}
