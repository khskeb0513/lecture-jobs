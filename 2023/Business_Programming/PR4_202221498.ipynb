{
 "cells": [
  {
   "cell_type": "code",
   "execution_count": 2,
   "id": "7454ae50-a540-43e1-8918-cfd47a867e8b",
   "metadata": {
    "tags": []
   },
   "outputs": [],
   "source": [
    "def take_order(*order):\n",
    "    '''\n",
    "    Insert order in orders in position 0.\n",
    "    '''\n",
    "    orders.insert(0, order)\n",
    "    print('[{}] 메뉴를 주문받았습니다.'.format(', '.join(order)))\n",
    "    print('현재 대기인원은 {}명 입니다.'.format(len(orders)))\n",
    "def serve_order():\n",
    "    print('\\n―> {} 메뉴가 나왔습니다.\\n'.format(', '.join(orders.pop())))"
   ]
  },
  {
   "cell_type": "code",
   "execution_count": 3,
   "id": "24da8388-75ef-441b-b5bc-24ce09d4d449",
   "metadata": {
    "tags": []
   },
   "outputs": [
    {
     "name": "stdout",
     "output_type": "stream",
     "text": [
      "[경영세트, 금융세트, 정보세트, 인문세트] 메뉴를 주문받았습니다.\n",
      "현재 대기인원은 1명 입니다.\n",
      "[경영세트, 정보버거, 콜라, 사이다] 메뉴를 주문받았습니다.\n",
      "현재 대기인원은 2명 입니다.\n",
      "\n",
      "―> 경영세트, 금융세트, 정보세트, 인문세트 메뉴가 나왔습니다.\n",
      "\n",
      "[이비즈크림] 메뉴를 주문받았습니다.\n",
      "현재 대기인원은 2명 입니다.\n",
      "[금융버거, 미뎌세트, 이비즈크림] 메뉴를 주문받았습니다.\n",
      "현재 대기인원은 3명 입니다.\n",
      "\n",
      "―> 경영세트, 정보버거, 콜라, 사이다 메뉴가 나왔습니다.\n",
      "\n"
     ]
    }
   ],
   "source": [
    "orders = []\n",
    "take_order('경영세트', '금융세트', '정보세트', '인문세트')\n",
    "take_order('경영세트', '정보버거', '콜라', '사이다')\n",
    "serve_order()\n",
    "take_order('이비즈크림')\n",
    "take_order('금융버거', '미뎌세트', '이비즈크림')\n",
    "serve_order()"
   ]
  },
  {
   "cell_type": "code",
   "execution_count": 4,
   "id": "f5f59e3f-5be9-4007-9c17-716142280bd1",
   "metadata": {
    "tags": []
   },
   "outputs": [
    {
     "name": "stdout",
     "output_type": "stream",
     "text": [
      "{'author': 'Biz Lee', 'char_name': '비프츄', 'char_memo': '이 캐릭터는 에비츄와 비즈니스 프로그래밍의 끔찍한 혼종입니다.', 'char_birth': '2023-03-30'}\n"
     ]
    }
   ],
   "source": [
    "def input_form(author, char_name, char_memo, char_birth):\n",
    "    return {\n",
    "        \"author\": author,\n",
    "        \"char_name\": char_name,\n",
    "        \"char_memo\": char_memo,\n",
    "        \"char_birth\": char_birth\n",
    "    }\n",
    "my_char = input_form(\n",
    "    'Biz Lee',\n",
    "    '비프츄',\n",
    "    '이 캐릭터는 에비츄와 비즈니스 프로그래밍의 끔찍한 혼종입니다.',\n",
    "    '2023-03-30'\n",
    ")\n",
    "print(my_char)"
   ]
  }
 ],
 "metadata": {
  "kernelspec": {
   "display_name": "Python 3 (ipykernel)",
   "language": "python",
   "name": "python3"
  },
  "language_info": {
   "codemirror_mode": {
    "name": "ipython",
    "version": 3
   },
   "file_extension": ".py",
   "mimetype": "text/x-python",
   "name": "python",
   "nbconvert_exporter": "python",
   "pygments_lexer": "ipython3",
   "version": "3.10.6"
  }
 },
 "nbformat": 4,
 "nbformat_minor": 5
}
