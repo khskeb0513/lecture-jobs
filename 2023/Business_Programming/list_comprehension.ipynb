{
 "cells": [
  {
   "cell_type": "code",
   "execution_count": 3,
   "id": "4faf25c5-b32d-490a-b520-5bc3d73f1db5",
   "metadata": {
    "tags": []
   },
   "outputs": [
    {
     "data": {
      "text/plain": [
       "[5, 6, 7, 8, 9, 10, 11, 12, 13, 14]"
      ]
     },
     "execution_count": 3,
     "metadata": {},
     "output_type": "execute_result"
    }
   ],
   "source": [
    "import datetime\n",
    "\n",
    "now = datetime.date.\n",
    "# list_comprehension 리스트 캄프리헨션\n",
    "[i + 5 for i in range(1000000000)]\n",
    "\n",
    "res = []\n",
    "for i in range(1000000000):\n",
    "    append(i + 5)"
   ]
  },
  {
   "cell_type": "code",
   "execution_count": 15,
   "id": "5f9a8a5c-d663-46f7-9135-30980183e5da",
   "metadata": {
    "tags": []
   },
   "outputs": [
    {
     "data": {
      "text/plain": [
       "[0, 2, 4, 6, 8]"
      ]
     },
     "execution_count": 15,
     "metadata": {},
     "output_type": "execute_result"
    }
   ],
   "source": [
    "# 짝수만\n",
    "[i for i in range(10) if i  % 2 == 0]"
   ]
  },
  {
   "cell_type": "code",
   "execution_count": 12,
   "id": "00131129-d5e7-4408-88eb-c61d50dc6bf8",
   "metadata": {
    "tags": []
   },
   "outputs": [
    {
     "data": {
      "text/plain": [
       "['안녕 1-2', '안녕 3-4']"
      ]
     },
     "execution_count": 12,
     "metadata": {},
     "output_type": "execute_result"
    }
   ],
   "source": [
    "[f'안녕 {c}-{n}' for c, n, in [{1, 2}, {3, 4}]]"
   ]
  }
 ],
 "metadata": {
  "kernelspec": {
   "display_name": "Python 3 (ipykernel)",
   "language": "python",
   "name": "python3"
  },
  "language_info": {
   "codemirror_mode": {
    "name": "ipython",
    "version": 3
   },
   "file_extension": ".py",
   "mimetype": "text/x-python",
   "name": "python",
   "nbconvert_exporter": "python",
   "pygments_lexer": "ipython3",
   "version": "3.10.6"
  }
 },
 "nbformat": 4,
 "nbformat_minor": 5
}
