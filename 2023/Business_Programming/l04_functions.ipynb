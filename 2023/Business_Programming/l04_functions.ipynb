{
 "cells": [
  {
   "cell_type": "code",
   "execution_count": 15,
   "id": "e5bedf48",
   "metadata": {},
   "outputs": [
    {
     "name": "stdout",
     "output_type": "stream",
     "text": [
      "딩동\n"
     ]
    }
   ],
   "source": [
    "def alert(msg = '딩동'):\n",
    "    '''\n",
    "    알람을 울려줍니다.\n",
    "    '''\n",
    "    print(msg)\n",
    "\n",
    "alert()"
   ]
  },
  {
   "cell_type": "code",
   "execution_count": 17,
   "id": "1783a85b",
   "metadata": {},
   "outputs": [
    {
     "name": "stdout",
     "output_type": "stream",
     "text": [
      "1 2 3\n"
     ]
    }
   ],
   "source": [
    "print(*[1, 2, 3])\n",
    "# * args 꼭 복습할 것"
   ]
  },
  {
   "cell_type": "code",
   "execution_count": 1,
   "id": "2fb60690-4fb9-401b-837a-22ceaf52b118",
   "metadata": {
    "tags": []
   },
   "outputs": [
    {
     "data": {
      "text/plain": [
       "<generator object my_func at 0x7f974d884900>"
      ]
     },
     "execution_count": 1,
     "metadata": {},
     "output_type": "execute_result"
    }
   ],
   "source": [
    "def my_func():\n",
    "    yield 1\n",
    "    return 2\n",
    "my_func()"
   ]
  }
 ],
 "metadata": {
  "kernelspec": {
   "display_name": "Python 3 (ipykernel)",
   "language": "python",
   "name": "python3"
  },
  "language_info": {
   "codemirror_mode": {
    "name": "ipython",
    "version": 3
   },
   "file_extension": ".py",
   "mimetype": "text/x-python",
   "name": "python",
   "nbconvert_exporter": "python",
   "pygments_lexer": "ipython3",
   "version": "3.10.6"
  }
 },
 "nbformat": 4,
 "nbformat_minor": 5
}
