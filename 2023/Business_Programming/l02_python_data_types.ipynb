{
 "cells": [
  {
   "cell_type": "code",
   "execution_count": 30,
   "id": "bb733913",
   "metadata": {},
   "outputs": [
    {
     "data": {
      "text/plain": [
       "[1, 2, '3']"
      ]
     },
     "execution_count": 30,
     "metadata": {},
     "output_type": "execute_result"
    }
   ],
   "source": [
    "# 파이썬 문자열 더할 때 더하기 절대 쓰지 말 것\n",
    "[1, 2, '3']"
   ]
  },
  {
   "cell_type": "code",
   "execution_count": 20,
   "id": "4136fb80",
   "metadata": {},
   "outputs": [
    {
     "name": "stdout",
     "output_type": "stream",
     "text": [
      "23 23\n"
     ]
    }
   ],
   "source": [
    "print(temp, temp)"
   ]
  },
  {
   "cell_type": "code",
   "execution_count": 51,
   "id": "27044522",
   "metadata": {},
   "outputs": [
    {
     "data": {
      "text/plain": [
       "\"It's sunny\""
      ]
     },
     "execution_count": 51,
     "metadata": {},
     "output_type": "execute_result"
    }
   ],
   "source": [
    "'It\\'s sunny'"
   ]
  },
  {
   "cell_type": "code",
   "execution_count": 10,
   "id": "c958ac52",
   "metadata": {},
   "outputs": [],
   "source": [
    "helloWorld = 'Hello, world!'"
   ]
  },
  {
   "cell_type": "code",
   "execution_count": 16,
   "id": "3a1a49b1",
   "metadata": {},
   "outputs": [
    {
     "data": {
      "text/plain": [
       "' '"
      ]
     },
     "execution_count": 16,
     "metadata": {},
     "output_type": "execute_result"
    }
   ],
   "source": [
    "helloWorld[6]"
   ]
  },
  {
   "cell_type": "code",
   "execution_count": 23,
   "id": "eef856b5",
   "metadata": {},
   "outputs": [
    {
     "data": {
      "text/plain": [
       "'동해물과 백두산'"
      ]
     },
     "execution_count": 23,
     "metadata": {},
     "output_type": "execute_result"
    }
   ],
   "source": [
    "korText = '동해물과 백두산이 마르고 닳도록'\n",
    "korText[0:8]"
   ]
  },
  {
   "cell_type": "code",
   "execution_count": 34,
   "id": "95e151a8",
   "metadata": {},
   "outputs": [
    {
     "data": {
      "text/plain": [
       "17"
      ]
     },
     "execution_count": 34,
     "metadata": {},
     "output_type": "execute_result"
    }
   ],
   "source": [
    "len(('동해물과 백두산이 마르고 닳도록'))"
   ]
  },
  {
   "cell_type": "code",
   "execution_count": 17,
   "id": "f7e363f6",
   "metadata": {},
   "outputs": [
    {
     "data": {
      "text/plain": [
       "'worl'"
      ]
     },
     "execution_count": 17,
     "metadata": {},
     "output_type": "execute_result"
    }
   ],
   "source": [
    "helloWorld[helloWorld.find('w'):helloWorld.find('d')]"
   ]
  },
  {
   "cell_type": "code",
   "execution_count": 27,
   "id": "68a69739",
   "metadata": {},
   "outputs": [
    {
     "data": {
      "text/plain": [
       "''"
      ]
     },
     "execution_count": 27,
     "metadata": {},
     "output_type": "execute_result"
    }
   ],
   "source": [
    "[year, month] = [2023, 4]\n",
    "year\n",
    "'   '.strip()"
   ]
  },
  {
   "cell_type": "code",
   "execution_count": 31,
   "id": "893fe962",
   "metadata": {},
   "outputs": [
    {
     "data": {
      "text/plain": [
       "''"
      ]
     },
     "execution_count": 31,
     "metadata": {},
     "output_type": "execute_result"
    }
   ],
   "source": [
    "helloWorld[15:]"
   ]
  },
  {
   "cell_type": "code",
   "execution_count": 34,
   "id": "4047c391",
   "metadata": {},
   "outputs": [
    {
     "data": {
      "text/plain": [
       "2"
      ]
     },
     "execution_count": 34,
     "metadata": {},
     "output_type": "execute_result"
    }
   ],
   "source": [
    "len([1, 2])"
   ]
  },
  {
   "cell_type": "code",
   "execution_count": 55,
   "id": "6aa77cfd",
   "metadata": {},
   "outputs": [
    {
     "data": {
      "text/plain": [
       "['sadf']"
      ]
     },
     "execution_count": 55,
     "metadata": {},
     "output_type": "execute_result"
    }
   ],
   "source": [
    "myList = ['sadf']\n",
    "myList.append(['sdf', 'asdf'])\n",
    "myList.pop()\n",
    "myList"
   ]
  },
  {
   "cell_type": "code",
   "execution_count": 3,
   "id": "aea827d7",
   "metadata": {},
   "outputs": [
    {
     "ename": "NameError",
     "evalue": "name 'concat' is not defined",
     "output_type": "error",
     "traceback": [
      "\u001b[0;31m---------------------------------------------------------------------------\u001b[0m",
      "\u001b[0;31mNameError\u001b[0m                                 Traceback (most recent call last)",
      "\u001b[0;32m/var/folders/4n/mkjd3sq978n3htnw47f6cxlc0000gn/T/ipykernel_21926/791864296.py\u001b[0m in \u001b[0;36m<module>\u001b[0;34m\u001b[0m\n\u001b[1;32m      1\u001b[0m \u001b[0;34m''\u001b[0m\u001b[0;34m.\u001b[0m\u001b[0mjoin\u001b[0m\u001b[0;34m(\u001b[0m\u001b[0;34m[\u001b[0m\u001b[0;34m'대한'\u001b[0m\u001b[0;34m,\u001b[0m \u001b[0;34m'민국'\u001b[0m\u001b[0;34m]\u001b[0m\u001b[0;34m)\u001b[0m\u001b[0;34m\u001b[0m\u001b[0;34m\u001b[0m\u001b[0m\n\u001b[0;32m----> 2\u001b[0;31m \u001b[0mconcat\u001b[0m\u001b[0;34m(\u001b[0m\u001b[0;34m'대한'\u001b[0m\u001b[0;34m,\u001b[0m \u001b[0;34m'민국'\u001b[0m\u001b[0;34m)\u001b[0m\u001b[0;34m\u001b[0m\u001b[0;34m\u001b[0m\u001b[0m\n\u001b[0m",
      "\u001b[0;31mNameError\u001b[0m: name 'concat' is not defined"
     ]
    }
   ],
   "source": [
    "''.join(['대한', '민국'])"
   ]
  },
  {
   "cell_type": "code",
   "execution_count": 5,
   "id": "ef2a13f5",
   "metadata": {},
   "outputs": [
    {
     "data": {
      "text/plain": [
       "'value0'"
      ]
     },
     "execution_count": 5,
     "metadata": {},
     "output_type": "execute_result"
    }
   ],
   "source": [
    "likeList = {0: 'value0', 'k1': 'v1'}\n",
    "\n",
    "likeList[0]"
   ]
  },
  {
   "cell_type": "code",
   "execution_count": 9,
   "id": "23ec6542",
   "metadata": {},
   "outputs": [
    {
     "data": {
      "text/plain": [
       "{'o0': 'v0', 'o1': 'v1', 'a1': 'v3'}"
      ]
     },
     "execution_count": 9,
     "metadata": {},
     "output_type": "execute_result"
    }
   ],
   "source": [
    "t1 = {'o0': 'v0', 'o1': 'v1'}\n",
    "t1['a1'] = 'v3'\n",
    "t1"
   ]
  },
  {
   "cell_type": "code",
   "execution_count": 12,
   "id": "5c46e501",
   "metadata": {},
   "outputs": [
    {
     "data": {
      "text/plain": [
       "{0: 1, 1: 1}"
      ]
     },
     "execution_count": 12,
     "metadata": {},
     "output_type": "execute_result"
    }
   ],
   "source": [
    "asdf = {}\n",
    "type(asdf)\n",
    "{0: 0, 1: 1, 0: 1}"
   ]
  },
  {
   "cell_type": "code",
   "execution_count": 41,
   "id": "ba9a0994",
   "metadata": {},
   "outputs": [
    {
     "name": "stdout",
     "output_type": "stream",
     "text": [
      "title hello\n",
      "no 123\n",
      "hello\n",
      "hello\n",
      "True\n",
      "_ 3\n",
      "myNumber 2\n"
     ]
    }
   ],
   "source": [
    "# i in [1, 2, 3]\n",
    "# nested loop 나중에 시험에 나올 듯\n",
    "\n",
    "for (key, value) in {'title': 'hello', 'no': 123}.items(): {\n",
    "    print(key, value)\n",
    "}\n",
    "\n",
    "for _ in {'title': 'hello', 'no': 123}.values(): {\n",
    "    print('hello')\n",
    "}\n",
    "    \n",
    "if (True): {\n",
    "    print(True)\n",
    "}\n",
    "\n",
    "_ = 3\n",
    "print('_', _)\n",
    "\n",
    "myNumber = 1\n",
    "myNumber += 1\n",
    "print('myNumber', myNumber)"
   ]
  },
  {
   "cell_type": "code",
   "execution_count": 50,
   "id": "02f24d70",
   "metadata": {},
   "outputs": [
    {
     "name": "stdout",
     "output_type": "stream",
     "text": [
      "2\n"
     ]
    },
    {
     "data": {
      "text/plain": [
       "[1, 3, 5, 7, 9]"
      ]
     },
     "execution_count": 50,
     "metadata": {},
     "output_type": "execute_result"
    }
   ],
   "source": [
    "# range 함수 파이썬의 독특한 함수인데 숫자만 늘어놓고 싶다\n",
    "# for i in range(1, 10): {\n",
    "#     print(i)\n",
    "# }\n",
    "print(range(1, 10).index(3))\n",
    "list(range(1, 10, 2))\n",
    "\n",
    "# loop 문 break countinue pass"
   ]
  },
  {
   "cell_type": "code",
   "execution_count": 9,
   "id": "f123d79a",
   "metadata": {},
   "outputs": [
    {
     "data": {
      "text/plain": [
       "dict_items([('book', '123')])"
      ]
     },
     "execution_count": 9,
     "metadata": {},
     "output_type": "execute_result"
    }
   ],
   "source": [
    "# 튜플로 묶어주는 함수\n",
    "{'book': '123'}.items()"
   ]
  },
  {
   "cell_type": "code",
   "execution_count": 25,
   "id": "3476d4c1",
   "metadata": {},
   "outputs": [
    {
     "data": {
      "text/plain": [
       "'34322324.3324423'"
      ]
     },
     "execution_count": 25,
     "metadata": {},
     "output_type": "execute_result"
    }
   ],
   "source": [
    "import datetime\n",
    "\n",
    "# f'{datetime.datetime.now()}'\n",
    "\n",
    "n = 34322324.3324423\n",
    "f'{n :3}'"
   ]
  },
  {
   "cell_type": "code",
   "execution_count": 39,
   "id": "f33da226",
   "metadata": {},
   "outputs": [],
   "source": [
    "myEnum = enumerate(['a', 'b', 'c'])"
   ]
  },
  {
   "cell_type": "code",
   "execution_count": 42,
   "id": "761df864",
   "metadata": {},
   "outputs": [
    {
     "ename": "TypeError",
     "evalue": "'enumerate' object is not callable",
     "output_type": "error",
     "traceback": [
      "\u001b[0;31m---------------------------------------------------------------------------\u001b[0m",
      "\u001b[0;31mTypeError\u001b[0m                                 Traceback (most recent call last)",
      "\u001b[0;32m/var/folders/4n/mkjd3sq978n3htnw47f6cxlc0000gn/T/ipykernel_35454/811556252.py\u001b[0m in \u001b[0;36m<module>\u001b[0;34m\u001b[0m\n\u001b[0;32m----> 1\u001b[0;31m \u001b[0mmyEnum\u001b[0m\u001b[0;34m(\u001b[0m\u001b[0;34m)\u001b[0m\u001b[0;34m.\u001b[0m\u001b[0mcount\u001b[0m\u001b[0;34m(\u001b[0m\u001b[0;34m)\u001b[0m\u001b[0;34m\u001b[0m\u001b[0;34m\u001b[0m\u001b[0m\n\u001b[0m",
      "\u001b[0;31mTypeError\u001b[0m: 'enumerate' object is not callable"
     ]
    }
   ],
   "source": [
    "myEnum().count()"
   ]
  }
 ],
 "metadata": {
  "kernelspec": {
   "display_name": "Python 3 (ipykernel)",
   "language": "python",
   "name": "python3"
  },
  "language_info": {
   "codemirror_mode": {
    "name": "ipython",
    "version": 3
   },
   "file_extension": ".py",
   "mimetype": "text/x-python",
   "name": "python",
   "nbconvert_exporter": "python",
   "pygments_lexer": "ipython3",
   "version": "3.9.13"
  }
 },
 "nbformat": 4,
 "nbformat_minor": 5
}
